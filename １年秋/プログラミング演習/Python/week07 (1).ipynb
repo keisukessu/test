{
  "nbformat": 4,
  "nbformat_minor": 0,
  "metadata": {
    "colab": {
      "provenance": []
    },
    "kernelspec": {
      "name": "python3",
      "display_name": "Python 3"
    }
  },
  "cells": [
    {
      "cell_type": "markdown",
      "metadata": {
        "id": "AQ0lGnfAOU5K"
      },
      "source": [
        "<h1>第7週課題</h1>"
      ]
    },
    {
      "cell_type": "markdown",
      "metadata": {
        "id": "_bEhaTj-ObAA"
      },
      "source": [
        "# 課題7-1\n",
        "個人の情報を扱うクラス`PeopleData`を作成せよ．ただし，`PeopleData`で作成されたインスタンスは以下のような動作ができるようにする．\n",
        "\n",
        "```python\n",
        "In [1]: d = PeopleData('Ritsumekan Taro')\n",
        "In [2]: d.get_name()\n",
        "Out[2]: 'Ritsumekan Taro'\n",
        "```\n",
        "\n",
        "［配点］15点満点（正しく表示されていれば満点、そうでなければ0点）"
      ]
    },
    {
      "cell_type": "code",
      "metadata": {
        "id": "rZgbCm1vOT44",
        "colab": {
          "base_uri": "https://localhost:8080/",
          "height": 35
        },
        "outputId": "e02c0484-f10b-4e32-f14b-6212369c96fe"
      },
      "source": [
        "# 課題7-1\n",
        "# コードを下記に記述して実行せよ\n",
        "class PeopleData:\n",
        "  def __init__(self, x):\n",
        "    self.name = x\n",
        "  def get_name(self):\n",
        "    return self.name\n",
        "d = PeopleData('Ritumeikan Taro')\n",
        "print(d.get_name())"
      ],
      "execution_count": null,
      "outputs": [
        {
          "output_type": "execute_result",
          "data": {
            "text/plain": [
              "'Ritumeikan Taro'"
            ],
            "application/vnd.google.colaboratory.intrinsic+json": {
              "type": "string"
            }
          },
          "metadata": {},
          "execution_count": 21
        }
      ]
    },
    {
      "cell_type": "markdown",
      "metadata": {
        "id": "yYjmn7iwOqvC"
      },
      "source": [
        "# 課題7-2\n",
        "課題7-1 で作成したクラス`PeopleData` を継承する`BigPeopleData`を作成せよ．\n",
        "ただし，`BigPeopleData`で作成されたインスタンスは以下のような動作ができるようにする．\n",
        "\n",
        "```python\n",
        "In [1]: e = BigPeopleData('Ritsumeikan Hanako', 20, 165)\n",
        "In [2]: e.get name()\n",
        "Out[2]: 'Ritsumeikan Hanako'\n",
        "In [3]: e.get_age()\n",
        "Out[3]: 20\n",
        "In [4]: e.get height()\n",
        "Out[3]: 165\n",
        "```\n",
        "\n",
        "［配点］20点\n",
        "（正しく表示されていれば満点、間違い1つごとに-5点）"
      ]
    },
    {
      "cell_type": "code",
      "metadata": {
        "id": "XaDhXiBdPCGz",
        "colab": {
          "base_uri": "https://localhost:8080/"
        },
        "outputId": "d3acfd41-7868-4380-816c-6e13e2c602b5"
      },
      "source": [
        "# 課題7-2 コード\n",
        "class BigPeopleData(PeopleData):\n",
        "  def __init__(self, name, age, height):\n",
        "    super().__init__(name)\n",
        "    self.age = age\n",
        "    self.height = height\n",
        "  def get_age(self):\n",
        "    return self.age\n",
        "  def get_height(self):\n",
        "    return self.height\n",
        "\n",
        "e = BigPeopleData('Ritsumeikan Hanako', 20, 165) \n",
        "print(e.get_name())\n",
        "print(e.get_age())\n",
        "print(e.get_height())"
      ],
      "execution_count": null,
      "outputs": [
        {
          "output_type": "stream",
          "name": "stdout",
          "text": [
            "Ritsumeikan Hanako\n",
            "20\n",
            "165\n"
          ]
        }
      ]
    },
    {
      "cell_type": "markdown",
      "metadata": {
        "id": "C3kkRdnUPFuu"
      },
      "source": [
        "# 課題7-3\n",
        "manaba+R から`data.txt`をダウンロードし，作業フォルダに置く．テキストにあるのコードを入力して実行し，`data[5].get_age()`，`data[6].get_name()` などで結果を確認せよ．（ただし，課題7-2 のクラスが使えることが前提である）\n",
        "\n",
        "［配点］15点満点\n",
        "（正しく表示されていれば満点、そうでなければ0点）"
      ]
    },
    {
      "cell_type": "code",
      "metadata": {
        "id": "9Z9hjrD5PPhr",
        "colab": {
          "base_uri": "https://localhost:8080/"
        },
        "outputId": "b35d1165-4635-4e13-f94c-8364f317cc89"
      },
      "source": [
        "# 課題7-3 コード\n",
        "with open('data.txt', 'r') as f:\n",
        " size = int(f.readline())\n",
        " data = []\n",
        " for n in range(0, size):\n",
        "  name = f.readline()\n",
        "  age = int(f.readline())\n",
        "  height = int(f.readline())\n",
        "  data.append(BigPeopleData(name.strip(), age, height))\n",
        "print(data[5].get_age())\n",
        "print(data[6].get_name())"
      ],
      "execution_count": 8,
      "outputs": [
        {
          "output_type": "stream",
          "name": "stdout",
          "text": [
            "20\n",
            "Watanabe Sara\n"
          ]
        }
      ]
    },
    {
      "cell_type": "code",
      "source": [
        "from google.colab import drive\n",
        "drive.mount('/content/drive')"
      ],
      "metadata": {
        "id": "tUxoZlr_nCxI",
        "colab": {
          "base_uri": "https://localhost:8080/",
          "height": 357
        },
        "outputId": "603ca9f1-56e6-4a21-bb98-981d19e17615"
      },
      "execution_count": null,
      "outputs": [
        {
          "output_type": "error",
          "ename": "MessageError",
          "evalue": "ignored",
          "traceback": [
            "\u001b[0;31m---------------------------------------------------------------------------\u001b[0m",
            "\u001b[0;31mMessageError\u001b[0m                              Traceback (most recent call last)",
            "\u001b[0;32m<ipython-input-1-d5df0069828e>\u001b[0m in \u001b[0;36m<module>\u001b[0;34m\u001b[0m\n\u001b[1;32m      1\u001b[0m \u001b[0;32mfrom\u001b[0m \u001b[0mgoogle\u001b[0m\u001b[0;34m.\u001b[0m\u001b[0mcolab\u001b[0m \u001b[0;32mimport\u001b[0m \u001b[0mdrive\u001b[0m\u001b[0;34m\u001b[0m\u001b[0;34m\u001b[0m\u001b[0m\n\u001b[0;32m----> 2\u001b[0;31m \u001b[0mdrive\u001b[0m\u001b[0;34m.\u001b[0m\u001b[0mmount\u001b[0m\u001b[0;34m(\u001b[0m\u001b[0;34m'/content/drive'\u001b[0m\u001b[0;34m)\u001b[0m\u001b[0;34m\u001b[0m\u001b[0;34m\u001b[0m\u001b[0m\n\u001b[0m",
            "\u001b[0;32m/usr/local/lib/python3.7/dist-packages/google/colab/drive.py\u001b[0m in \u001b[0;36mmount\u001b[0;34m(mountpoint, force_remount, timeout_ms, readonly)\u001b[0m\n\u001b[1;32m    104\u001b[0m       \u001b[0mtimeout_ms\u001b[0m\u001b[0;34m=\u001b[0m\u001b[0mtimeout_ms\u001b[0m\u001b[0;34m,\u001b[0m\u001b[0;34m\u001b[0m\u001b[0;34m\u001b[0m\u001b[0m\n\u001b[1;32m    105\u001b[0m       \u001b[0mephemeral\u001b[0m\u001b[0;34m=\u001b[0m\u001b[0;32mTrue\u001b[0m\u001b[0;34m,\u001b[0m\u001b[0;34m\u001b[0m\u001b[0;34m\u001b[0m\u001b[0m\n\u001b[0;32m--> 106\u001b[0;31m       readonly=readonly)\n\u001b[0m\u001b[1;32m    107\u001b[0m \u001b[0;34m\u001b[0m\u001b[0m\n\u001b[1;32m    108\u001b[0m \u001b[0;34m\u001b[0m\u001b[0m\n",
            "\u001b[0;32m/usr/local/lib/python3.7/dist-packages/google/colab/drive.py\u001b[0m in \u001b[0;36m_mount\u001b[0;34m(mountpoint, force_remount, timeout_ms, ephemeral, readonly)\u001b[0m\n\u001b[1;32m    123\u001b[0m   \u001b[0;32mif\u001b[0m \u001b[0mephemeral\u001b[0m\u001b[0;34m:\u001b[0m\u001b[0;34m\u001b[0m\u001b[0;34m\u001b[0m\u001b[0m\n\u001b[1;32m    124\u001b[0m     _message.blocking_request(\n\u001b[0;32m--> 125\u001b[0;31m         'request_auth', request={'authType': 'dfs_ephemeral'}, timeout_sec=None)\n\u001b[0m\u001b[1;32m    126\u001b[0m \u001b[0;34m\u001b[0m\u001b[0m\n\u001b[1;32m    127\u001b[0m   \u001b[0mmountpoint\u001b[0m \u001b[0;34m=\u001b[0m \u001b[0m_os\u001b[0m\u001b[0;34m.\u001b[0m\u001b[0mpath\u001b[0m\u001b[0;34m.\u001b[0m\u001b[0mexpanduser\u001b[0m\u001b[0;34m(\u001b[0m\u001b[0mmountpoint\u001b[0m\u001b[0;34m)\u001b[0m\u001b[0;34m\u001b[0m\u001b[0;34m\u001b[0m\u001b[0m\n",
            "\u001b[0;32m/usr/local/lib/python3.7/dist-packages/google/colab/_message.py\u001b[0m in \u001b[0;36mblocking_request\u001b[0;34m(request_type, request, timeout_sec, parent)\u001b[0m\n\u001b[1;32m    169\u001b[0m   request_id = send_request(\n\u001b[1;32m    170\u001b[0m       request_type, request, parent=parent, expect_reply=True)\n\u001b[0;32m--> 171\u001b[0;31m   \u001b[0;32mreturn\u001b[0m \u001b[0mread_reply_from_input\u001b[0m\u001b[0;34m(\u001b[0m\u001b[0mrequest_id\u001b[0m\u001b[0;34m,\u001b[0m \u001b[0mtimeout_sec\u001b[0m\u001b[0;34m)\u001b[0m\u001b[0;34m\u001b[0m\u001b[0;34m\u001b[0m\u001b[0m\n\u001b[0m",
            "\u001b[0;32m/usr/local/lib/python3.7/dist-packages/google/colab/_message.py\u001b[0m in \u001b[0;36mread_reply_from_input\u001b[0;34m(message_id, timeout_sec)\u001b[0m\n\u001b[1;32m    100\u001b[0m         reply.get('colab_msg_id') == message_id):\n\u001b[1;32m    101\u001b[0m       \u001b[0;32mif\u001b[0m \u001b[0;34m'error'\u001b[0m \u001b[0;32min\u001b[0m \u001b[0mreply\u001b[0m\u001b[0;34m:\u001b[0m\u001b[0;34m\u001b[0m\u001b[0;34m\u001b[0m\u001b[0m\n\u001b[0;32m--> 102\u001b[0;31m         \u001b[0;32mraise\u001b[0m \u001b[0mMessageError\u001b[0m\u001b[0;34m(\u001b[0m\u001b[0mreply\u001b[0m\u001b[0;34m[\u001b[0m\u001b[0;34m'error'\u001b[0m\u001b[0;34m]\u001b[0m\u001b[0;34m)\u001b[0m\u001b[0;34m\u001b[0m\u001b[0;34m\u001b[0m\u001b[0m\n\u001b[0m\u001b[1;32m    103\u001b[0m       \u001b[0;32mreturn\u001b[0m \u001b[0mreply\u001b[0m\u001b[0;34m.\u001b[0m\u001b[0mget\u001b[0m\u001b[0;34m(\u001b[0m\u001b[0;34m'data'\u001b[0m\u001b[0;34m,\u001b[0m \u001b[0;32mNone\u001b[0m\u001b[0;34m)\u001b[0m\u001b[0;34m\u001b[0m\u001b[0;34m\u001b[0m\u001b[0m\n\u001b[1;32m    104\u001b[0m \u001b[0;34m\u001b[0m\u001b[0m\n",
            "\u001b[0;31mMessageError\u001b[0m: Error: credential propagation was unsuccessful"
          ]
        }
      ]
    },
    {
      "cell_type": "markdown",
      "metadata": {
        "id": "fCw7fo4OPWjM"
      },
      "source": [
        "# 課題7-4\n",
        "課題7-3 を用いて，読み込んだ`BigPeopleData`のインスタンスから`age`が`20`のインスタンスを探し出し，その人の情報（名前，年齢，身長）を表示するプログラムを作成せよ．\n",
        "\n",
        "［配点］15点\n",
        "（正しく表示されていれば満点、そうでなければ0点）"
      ]
    },
    {
      "cell_type": "code",
      "metadata": {
        "id": "14s5BctvPVvE",
        "colab": {
          "base_uri": "https://localhost:8080/"
        },
        "outputId": "fff7d707-20e7-46d2-d5be-990b7b67de85"
      },
      "source": [
        "# 課題7-4 コード\n",
        "with open('data.txt', 'r') as f:\n",
        " size = int(f.readline())\n",
        " data = []\n",
        " for n in range(0, size):\n",
        "  name = f.readline()\n",
        "  age = int(f.readline())\n",
        "  height = int(f.readline())\n",
        "  data.append(BigPeopleData(name.strip(), age, height))\n",
        "  if data[n].get_age() == 20:\n",
        "    print(data[n].get_name())\n",
        "    print(data[n].get_age())\n",
        "    print(data[n].get_height())"
      ],
      "execution_count": 12,
      "outputs": [
        {
          "output_type": "stream",
          "name": "stdout",
          "text": [
            "Ritsumeikan Hanako\n",
            "20\n",
            "165\n",
            "Inoue Jiro\n",
            "20\n",
            "168\n"
          ]
        }
      ]
    },
    {
      "cell_type": "markdown",
      "metadata": {
        "id": "Ky3ljC5CPhaW"
      },
      "source": [
        "# 課題7-5\n",
        "インスタンス生成時の時刻を記録して，`time_diff` メソッドを実行すると現在の時刻との時間差を出力するクラス`TimeCount`を作成せよ．\n",
        "\n",
        "```python\n",
        "In [1]: t=TimeCount()\n",
        "In [2]: t.org\n",
        "Out[2]: datetime.datetime(2117, 12, 14, 17, 33, 30, 380427)\n",
        "In [3]: t.time diff()\n",
        "0:00:14.251754\n",
        "```\n",
        "\n",
        "［配点］20点満点\n",
        "（正しく表示されていれば満点、そうでなければ0点）\n"
      ]
    },
    {
      "cell_type": "code",
      "metadata": {
        "id": "oulfUq5IPv6t",
        "colab": {
          "base_uri": "https://localhost:8080/"
        },
        "outputId": "ee698db3-1d72-4008-f554-f64dd9f0cd26"
      },
      "source": [
        "# 課題7-5 コード\n",
        "import datetime\n",
        "class TimeCount:\n",
        "  def __init__(self):\n",
        "   self.org = datetime.datetime.now()\n",
        "  def time_diff(self):\n",
        "   return (datetime.datetime.now() - self.org)\n",
        "t = TimeCount()\n",
        "t.org\n",
        "t.time_diff()"
      ],
      "execution_count": 17,
      "outputs": [
        {
          "output_type": "execute_result",
          "data": {
            "text/plain": [
              "datetime.timedelta(microseconds=105)"
            ]
          },
          "metadata": {},
          "execution_count": 17
        }
      ]
    },
    {
      "cell_type": "code",
      "source": [],
      "metadata": {
        "id": "h0nJBE6PLoNL"
      },
      "execution_count": null,
      "outputs": []
    },
    {
      "cell_type": "markdown",
      "metadata": {
        "id": "JDKcaDMSPypl"
      },
      "source": [
        "# 課題7-6\n",
        "課題7-5 に`str`メソッドを追加し，インスタンス生成時の時刻を出力するようにせよ．\n",
        "\n",
        "\n",
        "```python\n",
        "In [1]: t=TimeCount()\n",
        "In [2]: print(t)\n",
        "2117-12-14 17:40:31.042797\n",
        "```\n",
        "\n",
        "\n",
        "［配点］15点\n",
        "（正しく表示されていれば満点、そうでなければ0点）\n"
      ]
    },
    {
      "cell_type": "code",
      "metadata": {
        "id": "WtTcXk_LQZN4",
        "colab": {
          "base_uri": "https://localhost:8080/"
        },
        "outputId": "211e27ce-7ac6-42ca-cd31-178416249b2e"
      },
      "source": [
        "# 課題7-6 コード\n",
        "import datetime\n",
        "class TimeCount:\n",
        "  def __init__(self):\n",
        "   self.org = datetime.datetime.now()\n",
        "  def time_diff(self):\n",
        "   return (datetime.datetime.now() - self.org)\n",
        "  def __str__(self):\n",
        "    return str(self.org)\n",
        "t = TimeCount()\n",
        "print(t)"
      ],
      "execution_count": 5,
      "outputs": [
        {
          "output_type": "stream",
          "name": "stdout",
          "text": [
            "2022-11-17 05:18:35.131912\n"
          ]
        }
      ]
    }
  ]
}