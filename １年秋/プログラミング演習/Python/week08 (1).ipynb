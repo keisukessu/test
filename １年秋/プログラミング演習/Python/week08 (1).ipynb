{
  "nbformat": 4,
  "nbformat_minor": 0,
  "metadata": {
    "colab": {
      "provenance": []
    },
    "kernelspec": {
      "name": "python3",
      "display_name": "Python 3"
    }
  },
  "cells": [
    {
      "cell_type": "markdown",
      "metadata": {
        "id": "AQ0lGnfAOU5K"
      },
      "source": [
        "<h1>第8週課題</h1>"
      ]
    },
    {
      "cell_type": "markdown",
      "metadata": {
        "id": "_bEhaTj-ObAA"
      },
      "source": [
        "# 課題8-1\n",
        "現在の時刻を自動取得し，アメリカ式（March 26 2012 のように月日年）で表示するプログラムを作成せよ．\n",
        "ただし，月は数字ではなく，英語で表示せねばならぬものとする．したがって，\n",
        "\n",
        "```python\n",
        "import calendar\n",
        "import datetime as dt\n",
        "t = dt.datetime(2015,6,18,10,49,14,416928)\n",
        "tstr = t.strftime('%M %d %Y')\n",
        "print(tstr)\n",
        "```\n",
        "のようなコードで得られる表示形式では**不正解**とする．英語による月の表示名は省略したものでよい．たとえば，March はMar でもよい．\n",
        "\n",
        "［配点］25点満点\n",
        "（正しい表記であれば満点、表記が間違っていれば1つごとに減点5）"
      ]
    },
    {
      "cell_type": "code",
      "metadata": {
        "id": "rZgbCm1vOT44",
        "colab": {
          "base_uri": "https://localhost:8080/"
        },
        "outputId": "7e04ca9a-56ff-40c0-e983-6978dfdf0ab3"
      },
      "source": [
        "# 課題8-1\n",
        "# コードを下記に記述して実行せよ\n",
        "import datetime as dt\n",
        "t = dt.datetime.now()\n",
        "tstr = t.strftime('%b %d %Y')\n",
        "print(tstr)"
      ],
      "execution_count": 20,
      "outputs": [
        {
          "output_type": "stream",
          "name": "stdout",
          "text": [
            "Nov 18 2022\n"
          ]
        }
      ]
    },
    {
      "cell_type": "markdown",
      "metadata": {
        "id": "yYjmn7iwOqvC"
      },
      "source": [
        "# 課題8-2\n",
        "テキストにあるコードをを実行せよ．この実行結果をよく観察し，`u = v` を実行すると，`u`と`v`は同じ実体を指している（２つのリストが連動して値がかわってしまう）ことを確認せよ．\n",
        "\n",
        "次に，テキストにあるコードをを実行せよ．この実行結果をよく観察し，`u=copy.copy(v)`を実行すると，`u`と`v`は異なる実体を指している（`u`に`v`と同じ値をもつ別のリストが代入される）ことを確認せよ．\n",
        "\n",
        "\n",
        "［配点］10点\n",
        "（テキスト通りに実行されていれば満点、そうでなければ0点）"
      ]
    },
    {
      "cell_type": "code",
      "metadata": {
        "id": "XaDhXiBdPCGz",
        "colab": {
          "base_uri": "https://localhost:8080/"
        },
        "outputId": "5d2bf4c3-5d88-42e1-b905-05e357067374"
      },
      "source": [
        "# 課題8-2 コード\n",
        "import copy\n",
        "v=[1,2,3]\n",
        "u=v\n",
        "print(v)\n",
        "print(u)\n",
        "v[1] = -1\n",
        "print(v)\n",
        "print(u)\n",
        "import copy\n",
        "v=[1,2,3]\n",
        "u=copy.copy(v)\n",
        "print(v)\n",
        "print(u)\n",
        "v[1] = -1\n",
        "print(v)\n",
        "print(u)\n"
      ],
      "execution_count": 22,
      "outputs": [
        {
          "output_type": "stream",
          "name": "stdout",
          "text": [
            "[1, 2, 3]\n",
            "[1, 2, 3]\n",
            "[1, -1, 3]\n",
            "[1, -1, 3]\n",
            "[1, 2, 3]\n",
            "[1, 2, 3]\n",
            "[1, -1, 3]\n",
            "[1, 2, 3]\n"
          ]
        }
      ]
    },
    {
      "cell_type": "markdown",
      "metadata": {
        "id": "C3kkRdnUPFuu"
      },
      "source": [
        "# 課題8-3\n",
        "0 以上10 未満の整数からなるリストを作成し，`v`に代入せよ．`v`と同じ値を持つリスト`w`をリスト`v`からコピーする形で作成せよ．\n",
        "`w`を，各要素が元の2倍になるよう変更せよ．\n",
        "`v`と`w`の中身をすべて表示し，確かに異なる値を持っていることを確認せよ．\n",
        "\n",
        "［配点］20点満点\n",
        "（`copy`関数を利用して、正しく表示されていれば満点、そうでなければ0点）"
      ]
    },
    {
      "cell_type": "code",
      "metadata": {
        "id": "9Z9hjrD5PPhr",
        "colab": {
          "base_uri": "https://localhost:8080/"
        },
        "outputId": "7c330276-bab0-46ae-dcd8-5cc1e5379995"
      },
      "source": [
        "# 課題8-3 コード\n",
        "import copy\n",
        "v = []\n",
        "w = []\n",
        "for x in range(10):\n",
        " v.append(x)\n",
        "print(v)\n",
        "for y in range(10):\n",
        " a = v[y]*2\n",
        " w.append(a)\n",
        "print(w)"
      ],
      "execution_count": 47,
      "outputs": [
        {
          "output_type": "stream",
          "name": "stdout",
          "text": [
            "[0, 1, 2, 3, 4, 5, 6, 7, 8, 9]\n",
            "[0, 2, 4, 6, 8, 10, 12, 14, 16, 18]\n"
          ]
        }
      ]
    },
    {
      "cell_type": "markdown",
      "metadata": {
        "id": "fCw7fo4OPWjM"
      },
      "source": [
        "# 課題8-4\n",
        "テキストにあるコードを実行せよ．\n",
        "実行結果をよく観察し，`u[0][0]`と`v[0][0]`のペア，`u[1][0]`と`v[1][0]`のペアなどはそれぞれ同じ実体をあらわしているだけであることを確認せよ．\n",
        "リストのリストに対して`copy.copy()`を適用しても，「`[1,2]`を指すこと」ならびに「`[3,4]`を指すこと」のコピーが実行されるためである．\n",
        "\n",
        "さらに，テキストにあるコードを追加で実行せよ．\n",
        "実行結果をよく観察し，リストのリストに対して`copy.deepcopy()`を行えば，リスト内にあるリストの全ての要素に対して，値のコピーが行われ，`u[0][0]`と`v[0][0]`のペアも`u[1][0]`と`v[1][0]`のペアもそれぞれ別々の実体をもてるようになったことを確認せよ．\n",
        "\n",
        "［配点］10点\n",
        "（テキスト通りに実行されていれば満点、そうでなければ0点）"
      ]
    },
    {
      "cell_type": "code",
      "metadata": {
        "id": "14s5BctvPVvE",
        "colab": {
          "base_uri": "https://localhost:8080/"
        },
        "outputId": "f38455b8-a4ee-4ca8-b48a-177a4deab55f"
      },
      "source": [
        "# 課題8-4 コード\n",
        "import copy\n",
        "v=[[1,2],[3,4]]\n",
        "u=copy.copy(v)\n",
        "print(v)\n",
        "print(u)\n",
        "v[0][0]=-1\n",
        "print(v)\n",
        "print(u)\n",
        "import copy\n",
        "v=[[1,2],[3,4]]\n",
        "u=copy.deepcopy(v)\n",
        "print(v)\n",
        "print(u)\n",
        "v[0][0]=-1\n",
        "print(v)\n",
        "print(u)"
      ],
      "execution_count": 48,
      "outputs": [
        {
          "output_type": "stream",
          "name": "stdout",
          "text": [
            "[[1, 2], [3, 4]]\n",
            "[[1, 2], [3, 4]]\n",
            "[[-1, 2], [3, 4]]\n",
            "[[-1, 2], [3, 4]]\n",
            "[[1, 2], [3, 4]]\n",
            "[[1, 2], [3, 4]]\n",
            "[[-1, 2], [3, 4]]\n",
            "[[1, 2], [3, 4]]\n"
          ]
        }
      ]
    },
    {
      "cell_type": "markdown",
      "metadata": {
        "id": "Ky3ljC5CPhaW"
      },
      "source": [
        "# 課題8-5\n",
        "`copy.deepcopy()`では，オブジェクトの中にオブジェクトがあった場合，再帰的に値のコピーを行う．\n",
        "ややこしいが，リストのリストのリストのコピーも同様にできる．テキストにあるコードを実行せよ．\n",
        "\n",
        "さらに，もう一つのコードを実行し，再帰的に実体のコピーが行われ，`u[0][0][0]`と`v[0][0][0]`のペアや`u[0][1][0]`と`v[0][1][0]`のペアなどがそれぞれ別々の実体をもてるようになったことを確認せよ．\n",
        "\n",
        "\n",
        "［配点］10点\n",
        "（テキスト通りに実行されていれば満点、そうでなければ0点）\n"
      ]
    },
    {
      "cell_type": "code",
      "metadata": {
        "id": "oulfUq5IPv6t",
        "colab": {
          "base_uri": "https://localhost:8080/"
        },
        "outputId": "3305d9ae-d914-4c36-f546-55db3f2f765e"
      },
      "source": [
        "# 課題8-5 コード\n",
        "import copy\n",
        "v=[[[1,2],[3,4]],[[5,6],[7,8]]]\n",
        "u=copy.copy(v)\n",
        "print(v)\n",
        "print(u)\n",
        "v[0][0][0]=-1\n",
        "print(v)\n",
        "print(u)\n",
        "import copy\n",
        "v=[[[1,2],[3,4]],[[5,6],[7,8]]]\n",
        "u=copy.deepcopy(v)\n",
        "print(v)\n",
        "print(u)\n",
        "v[0][0][0]=-1\n",
        "print(v)\n",
        "print(u)\n",
        "\n"
      ],
      "execution_count": 50,
      "outputs": [
        {
          "output_type": "stream",
          "name": "stdout",
          "text": [
            "[[[1, 2], [3, 4]], [[5, 6], [7, 8]]]\n",
            "[[[1, 2], [3, 4]], [[5, 6], [7, 8]]]\n",
            "[[[-1, 2], [3, 4]], [[5, 6], [7, 8]]]\n",
            "[[[-1, 2], [3, 4]], [[5, 6], [7, 8]]]\n",
            "[[[1, 2], [3, 4]], [[5, 6], [7, 8]]]\n",
            "[[[1, 2], [3, 4]], [[5, 6], [7, 8]]]\n",
            "[[[-1, 2], [3, 4]], [[5, 6], [7, 8]]]\n",
            "[[[1, 2], [3, 4]], [[5, 6], [7, 8]]]\n"
          ]
        }
      ]
    },
    {
      "cell_type": "markdown",
      "metadata": {
        "id": "JDKcaDMSPypl"
      },
      "source": [
        "# 課題8-6\n",
        "モンテカルロ法と呼ばれる方法で円周率\u0019 を求めてみよう．\n",
        "0以上1以下の乱数$x$, $y$ で定義される点$(x, y)$はテキストのp.32 図1左で示すように，二次元平面の第一象限にある長さ1の正方形内の点とみなすことができる．\n",
        "\n",
        "正方形内に大量の点を打つと（例えば1000個），乱数の性質により，ランダムに作成した点は，図1右のように正方形の中に均等に分布する．\n",
        "\n",
        "ここでは中心0，半径1 の扇を単に「扇形」と呼ぶことにする．\n",
        "乱数が一様に分布しているのであれば，扇形の中にある点と，ランダムに打った点の総数の比は，扇形の面積と正方形の面積の比とほぼ一致するはずである．\n",
        "\n",
        "扇形の面積は$\\pi/4$，正方形の面積は1 だから，円周率の近似値を以下で求めることができる．\n",
        "\n",
        "$\\pi≃4 \\frac{正方形内に配置された扇形内に打たれた点(x,y) の個数}{ランダムに正方形内に打った点の総数}$\n",
        "\n",
        "扇形内に点$(x,y)$ があるための必要十分条件は，以下のとおりである．\n",
        "\n",
        "$x^2 + y^2 < 1 かつ0 \\leqq x \\leqq 1 かつ 0 \\leqq y \\leqq 1$\n",
        "\n",
        "上記の関係式を用い，10000個のランダムな点による\u0019 の近似値を求めるプログラムを作成せよ．\n",
        "\n",
        "\n",
        "［配点］25点\n",
        "（近似値が算出されており、乱数が用いられていれば満点、そうでなければ0点）\n"
      ]
    },
    {
      "cell_type": "code",
      "metadata": {
        "id": "WtTcXk_LQZN4",
        "colab": {
          "base_uri": "https://localhost:8080/"
        },
        "outputId": "8fd169e7-b559-4955-a8e1-56cd3a584c73"
      },
      "source": [
        "#@title\n",
        "# 課題8-6 コード\n",
        "import random \n",
        "import numpy as np\n",
        "n = 10000\n",
        "sum = 0\n",
        "x = np.random.random(n)\n",
        "y = np.random.random(n)\n",
        "for i in range(n):\n",
        " if (x[i]**2 + y[i]**2)<= 1:\n",
        "  sum += 1\n",
        "\n",
        "π = 4*sum/n\n",
        "print(π)"
      ],
      "execution_count": 85,
      "outputs": [
        {
          "output_type": "stream",
          "name": "stdout",
          "text": [
            "3.132\n"
          ]
        }
      ]
    }
  ]
}