{
  "nbformat": 4,
  "nbformat_minor": 0,
  "metadata": {
    "colab": {
      "provenance": []
    },
    "kernelspec": {
      "name": "python3",
      "display_name": "Python 3"
    }
  },
  "cells": [
    {
      "cell_type": "markdown",
      "metadata": {
        "id": "AQ0lGnfAOU5K"
      },
      "source": [
        "<h1>第9週課題</h1>"
      ]
    },
    {
      "cell_type": "markdown",
      "metadata": {
        "id": "_bEhaTj-ObAA"
      },
      "source": [
        "# 課題9-1\n",
        "ユーザから入力された文字列から小文字のアルファベット，数字，数字という並びでできている文字列を検索して出力するプログラムを完成せよ．\n",
        "ただし，検索結果は`Searched Result: `という文字列に続けて出力するものとする．\n",
        "また，複数見つかった場合はそれらの文字列を空白文字を区切り文字として全て表示し，見つからなかった場合はその旨表示すること．\n",
        "\n",
        "想定される実行例は以下の通りである．\n",
        "\n",
        "```\n",
        "Please Input String: This model is m16.\n",
        "Searched Result: m16\n",
        "```\n",
        "\n",
        "```\n",
        "Please Input String: This model is m16, x76 and B18.\n",
        "Searched Result: m16 x76 B18\n",
        "```\n",
        "\n",
        "```\n",
        "Please Input String: My name is Ritsumei Taro.\n",
        "Searched Result: Not Found\n",
        "```\n",
        "\n",
        "［配点］15点満点\n",
        "（正しく表示されていれば満点、そうでなければ0点）"
      ]
    },
    {
      "cell_type": "code",
      "metadata": {
        "id": "rZgbCm1vOT44",
        "colab": {
          "base_uri": "https://localhost:8080/"
        },
        "outputId": "08002632-4588-4eac-ba34-b30784041677"
      },
      "source": [
        "# 課題9-1\n",
        "# コードを下記に記述して実行せよ\n",
        "import re\n",
        "a = input()\n",
        "m = re.findall('[a-z][0-9][0-9]',a)\n",
        "if m == []:\n",
        "  print('Not Found')\n",
        "else:\n",
        "  m = ' '.join(m)\n",
        "  print('Searched Result:' + m)"
      ],
      "execution_count": 47,
      "outputs": [
        {
          "output_type": "stream",
          "name": "stdout",
          "text": [
            "aaaa\n",
            "Not Found\n"
          ]
        }
      ]
    },
    {
      "cell_type": "markdown",
      "metadata": {
        "id": "yYjmn7iwOqvC"
      },
      "source": [
        "# 課題9-2\n",
        "四則演算結果を返す関数`calc(num1, num2, symb)`を作成せよ．\n",
        "`num1`, `num2`は実数とし，`symb`は`'add'`,`'sub'`, `'mul'`, `'div'` のいずれかとする．\n",
        "ただし，引き算と割り算の計算順は`num1 - num2`， `num1 / num2` とし，精度を3 桁とする．\n",
        "\n",
        "```python\n",
        "In [1]: calc(3.42344, 5.4543, 'add')\n",
        "Out[1]: Decimal('8.88')\n",
        "```\n",
        "\n",
        "［配点］15点\n",
        "（正しく計算、表示されていれば満点、そうでなければ0点））"
      ]
    },
    {
      "cell_type": "code",
      "metadata": {
        "id": "XaDhXiBdPCGz",
        "colab": {
          "base_uri": "https://localhost:8080/"
        },
        "outputId": "01ab42f1-19d0-4f00-e2ad-819562b50ab4"
      },
      "source": [
        "# 課題9-2 コード\n",
        "import decimal\n",
        "D = decimal.Decimal\n",
        "decimal.getcontext().prec = 3\n",
        "def calc(num1, num2, symb):\n",
        "  if symb == 'add':\n",
        "    return D(num1) + D(num2)\n",
        "  elif symb == 'sub':\n",
        "    return D(num1) - D(num2)\n",
        "  elif symb == 'mul':\n",
        "    return D(num1) * D(num2)\n",
        "  elif symb == 'div':\n",
        "    return D(num1) / D(num2)\n",
        "calc(3.42344, 5.4543, 'add')"
      ],
      "execution_count": 23,
      "outputs": [
        {
          "output_type": "execute_result",
          "data": {
            "text/plain": [
              "Decimal('8.88')"
            ]
          },
          "metadata": {},
          "execution_count": 23
        }
      ]
    },
    {
      "cell_type": "markdown",
      "metadata": {
        "id": "C3kkRdnUPFuu"
      },
      "source": [
        "# 課題9-3\n",
        "`Passwd` という名前のクラスを生成し，文字列として与えられたパスワードが初期パスワードと一致するかどうかをハッシュを用いて確認するプログラムを作成せよ．\n",
        "\n",
        "```python\n",
        "In [1]: p = Passwd('djle3Z4j')\n",
        "In [2]: p.cmp('djle3Z4j')\n",
        "SAME\n",
        "In [3]: p.cmp('djle3Z4k')\n",
        "NOT SAME\n",
        "```\n",
        "\n",
        "［配点］15点満点\n",
        "（ハッシュを用いて正しく動作していれば満点、そうでなければ0点）"
      ]
    },
    {
      "cell_type": "code",
      "metadata": {
        "id": "9Z9hjrD5PPhr",
        "colab": {
          "base_uri": "https://localhost:8080/"
        },
        "outputId": "df158d9f-2cee-4b46-afeb-b84ecc8e0d67"
      },
      "source": [
        "# 課題9-3 コード\n",
        "import hashlib\n",
        "class Passwd:\n",
        "  def __init__(self, x):\n",
        "    self.pswd = x\n",
        "  def cmp(self,a):\n",
        "    pswd1 = hashlib.md5(bytes(self.pswd, 'utf-8')).hexdigest()\n",
        "    pswd2 = hashlib.md5(bytes(a, 'utf-8')).hexdigest()\n",
        "    if pswd1 == pswd2:\n",
        "      return 'SAME'\n",
        "    elif pswd1 != pswd2:\n",
        "      return 'NOT SAME'\n",
        "p = Passwd('djle3Z4j')\n",
        "print(p.cmp('djle3Z4j'))\n",
        "print(p.cmp('djle3Z4k'))"
      ],
      "execution_count": 4,
      "outputs": [
        {
          "output_type": "stream",
          "name": "stdout",
          "text": [
            "SAME\n",
            "NOT SAME\n"
          ]
        }
      ]
    },
    {
      "cell_type": "markdown",
      "metadata": {
        "id": "fCw7fo4OPWjM"
      },
      "source": [
        "# 課題9-4\n",
        "テキストにあるコードを実行せよ．\n",
        "\n",
        "その後，プログラムを修正し，$x$ の範囲を$-2\\pi \\sim 2 \\pi$とし$2\\sin(x) + \\cos(2x/3)$ のグラフを描け\n",
        "(定義域を$[-2\\pi, 2\\pi]$ とした関数$2\\sin(x) + \\cos(2x/3)$ のグラフを描け)．\n",
        "\n",
        "［配点］15点\n",
        "（正しく表示されていれば満点、そうでなければ0点）"
      ]
    },
    {
      "cell_type": "markdown",
      "source": [],
      "metadata": {
        "id": "Q0dqyjKykCsi"
      }
    },
    {
      "cell_type": "code",
      "metadata": {
        "id": "14s5BctvPVvE",
        "colab": {
          "base_uri": "https://localhost:8080/",
          "height": 297
        },
        "outputId": "0031096b-0884-4b70-f1fc-710000d2a9ce"
      },
      "source": [
        "# 課題9-4 コード\n",
        "import numpy as np\n",
        "import matplotlib.pylab as plt\n",
        "x = np.linspace(-2*np.pi, 2*np.pi, 201)\n",
        "plt.plot(x, 2*np.sin(x) + np.cos(2*x/3))\n",
        "plt.xlabel('Angle [rad]')\n",
        "plt.ylabel('sin(x)')\n",
        "plt.axis('tight')\n",
        "# plt.show()"
      ],
      "execution_count": 58,
      "outputs": [
        {
          "output_type": "execute_result",
          "data": {
            "text/plain": [
              "(-6.911503837897545, 6.911503837897545, -3.278729515600298, 2.8533198276062497)"
            ]
          },
          "metadata": {},
          "execution_count": 58
        },
        {
          "output_type": "display_data",
          "data": {
            "text/plain": [
              "<Figure size 432x288 with 1 Axes>"
            ],
            "image/png": "[encoded data removed]"
          },
          "metadata": {
            "needs_background": "light"
          }
        }
      ]
    },
    {
      "cell_type": "markdown",
      "metadata": {
        "id": "Ky3ljC5CPhaW"
      },
      "source": [
        "# 課題9-5\n",
        "`numpy`モジュールを用いると行列演算が容易にできる．\n",
        "テキスト中の例を参考にその使い方を理解せよ．\n",
        "理解ができたら次の連立方程式の解を求めるプログラムを作成せよ．\n",
        "\n",
        "$x - 2y + 3z = 5$\n",
        "\n",
        "$2x - y + z = 6$\n",
        "\n",
        "$x + 3y - 5z = 2$\n",
        "\n",
        "\n",
        "［配点］20点満点\n",
        "（行列演算で正しく計算できていれば満点、そうでなければ0点）\n"
      ]
    },
    {
      "cell_type": "code",
      "metadata": {
        "id": "oulfUq5IPv6t",
        "colab": {
          "base_uri": "https://localhost:8080/"
        },
        "outputId": "3bd89e98-dc8e-410e-9630-c6c1712b30f8"
      },
      "source": [
        "# 課題9-5 コード\n",
        "import numpy as np\n",
        "mat1 = np.matrix([[1, -2, 3], [2, -1, 1], [1, 3, -5]])\n",
        "mat2 = np.matrix([[5], [6], [2]])\n",
        "mat1I = mat1.getI()\n",
        "mat3 = mat1I * mat2\n",
        "print('x = ' + str(int(mat3[0,0])))\n",
        "print('y = ' + str(int(mat3[1,0])))\n",
        "print('z = ' + str(int(mat3[2,0])))"
      ],
      "execution_count": 69,
      "outputs": [
        {
          "output_type": "stream",
          "name": "stdout",
          "text": [
            "x = 6\n",
            "y = 17\n",
            "z = 11\n"
          ]
        }
      ]
    },
    {
      "cell_type": "markdown",
      "metadata": {
        "id": "JDKcaDMSPypl"
      },
      "source": [
        "# 課題9-6\n",
        "式を表す文字列を入力すると数値の部分と演算子の部分で分けて以下の例のように出力するプログラムを作成せよ．\n",
        "演算子としては四則演算についての`+`，`-`，`*`，`/` についてだけ，式としては整数とこれらの演算子のみからなるものについて動作すれば良いものとする．\n",
        "\n",
        "```python\n",
        "Input Equation: 4+3*\u00033-2\n",
        "[4, 3, 3, 2]\n",
        "['+', '*', '-']\n",
        "```\n",
        "\n",
        "［配点］20点\n",
        "（正しく表示されていれば満点、そうでなければ0点）\n"
      ]
    },
    {
      "cell_type": "code",
      "metadata": {
        "id": "WtTcXk_LQZN4",
        "colab": {
          "base_uri": "https://localhost:8080/"
        },
        "outputId": "b4075db9-d24e-4ae9-d820-9ce884e9d580"
      },
      "source": [
        "# 課題9-6 コード\n",
        "import re\n",
        "a = input('式を入力せよ')\n",
        "num = re.findall('[0-9]', a)\n",
        "symb = re.findall( '[+, /, *, -]', a)\n",
        "print(num)\n",
        "print(symb)"
      ],
      "execution_count": 2,
      "outputs": [
        {
          "output_type": "stream",
          "name": "stdout",
          "text": [
            "式を入力せよ1+11111\n",
            "['1', '11111']\n",
            "['+']\n"
          ]
        }
      ]
    }
  ]
}