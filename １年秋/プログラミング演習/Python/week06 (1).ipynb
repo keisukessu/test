{
  "nbformat": 4,
  "nbformat_minor": 0,
  "metadata": {
    "colab": {
      "provenance": [],
      "collapsed_sections": []
    },
    "kernelspec": {
      "name": "python3",
      "display_name": "Python 3"
    }
  },
  "cells": [
    {
      "cell_type": "markdown",
      "metadata": {
        "id": "AQ0lGnfAOU5K"
      },
      "source": [
        "<h1>第6週課題</h1>"
      ]
    },
    {
      "cell_type": "markdown",
      "metadata": {
        "id": "_bEhaTj-ObAA"
      },
      "source": [
        "# 課題6-1\n",
        "２つの引数を受け取り，足し算，引き算，掛け算，割り算を行う関数`add`, `sub`, `mul`, `div` を`def`命令を使って定義せよ．これらの関数を使って，$2 + 3$, $4 - 1$, $2 \\times 3$, $6/2$ をそれぞれ計算し結果を出力せよ．\n",
        "\n",
        "［配点］20点満点（正しく関数が定義され、結果が正しければ満点、そうでなければ1つごとに-5点）"
      ]
    },
    {
      "cell_type": "code",
      "metadata": {
        "id": "rZgbCm1vOT44",
        "colab": {
          "base_uri": "https://localhost:8080/"
        },
        "outputId": "d8344388-bdf9-4139-8ff7-d8af5116fa8c"
      },
      "source": [
        "# 課題6-1\n",
        "# コードを下記に記述して実行せよ\n",
        "def add (x,y):\n",
        "  return x + y\n",
        "def sub (x,y):\n",
        "  return x - y\n",
        "def mul (x,y):\n",
        "  return x * y\n",
        "def div (x,y):\n",
        "  return x / y\n",
        "print(add(2,3))\n",
        "print(sub(4,1))\n",
        "print(mul(2,3))\n",
        "print(div(6,2))"
      ],
      "execution_count": null,
      "outputs": [
        {
          "output_type": "stream",
          "name": "stdout",
          "text": [
            "5\n",
            "3\n",
            "6\n",
            "3.0\n"
          ]
        }
      ]
    },
    {
      "cell_type": "markdown",
      "metadata": {
        "id": "yYjmn7iwOqvC"
      },
      "source": [
        "# 課題6-2\n",
        "2つの引数を受け取り，足し算，引き算，掛け算，割り算を行う関数`add`, `sub`, `mul`, `div` を`lambda`式を使って定義せよ．これらの関数を使って，$2 + 3$, $4 - 1$, $2 \\times 3$, $6/2$ を計算し結果を出力せよ．\n",
        "\n",
        "\n",
        "［配点］20点満点（正しく関数が定義され、結果が正しければ満点、そうでなければ1つごとに-5点）"
      ]
    },
    {
      "cell_type": "code",
      "metadata": {
        "id": "XaDhXiBdPCGz",
        "colab": {
          "base_uri": "https://localhost:8080/"
        },
        "outputId": "0816cb19-98b1-4cb3-f94a-218f54f7e718"
      },
      "source": [
        "# 課題6-2 コード\n",
        "add = lambda x,y:x + y\n",
        "sub = lambda x,y:x - y\n",
        "mul = lambda x,y:x * y\n",
        "div = lambda x,y:x / y\n",
        "print(add(2,3))\n",
        "print(sub(4,1))\n",
        "print(mul(2,3))\n",
        "print(div(6,2))"
      ],
      "execution_count": null,
      "outputs": [
        {
          "output_type": "stream",
          "name": "stdout",
          "text": [
            "5\n",
            "3\n",
            "6\n",
            "3.0\n"
          ]
        }
      ]
    },
    {
      "cell_type": "markdown",
      "metadata": {
        "id": "C3kkRdnUPFuu"
      },
      "source": [
        "# 課題6-3\n",
        "課題6-1 で作成した`add`, `sub`, `mul`, `div` を要素に持つリスト(あるいは辞書型）`ope` を定義せよ．キーボードから2つの数字を入力させよ．入力させた数字は変数を`a`, `b` に保存するとする．キーボードからさらに一つ数字を入力させ，その数字が`0`ならば，`a+b` を，`1` ならば`a-b`を，`2`ならば`a*b`を，`3`ならば`a/b`の計算結果を表示するプログラムを作成せよ．\n",
        "ただし，四則演算すべての処理を実行すること．\n",
        "\n",
        "ヒント\n",
        "```python\n",
        "ope = [add, sub, mul, div]\n",
        "\n",
        "ope[x](a,b)\n",
        "```\n",
        "などのコードを使う．これらのコードの意味をよく考えよう（リストの要素として関数を取り扱っていることに注意せよ）．\n",
        "\n",
        "［配点］20点満点（正しく関数が定義され、結果が正しければ満点、そうでなければ1つごとに-5点）"
      ]
    },
    {
      "cell_type": "code",
      "metadata": {
        "id": "9Z9hjrD5PPhr",
        "colab": {
          "base_uri": "https://localhost:8080/"
        },
        "outputId": "8d4c0d83-3955-4e1e-dfa0-f16ef9919dcd"
      },
      "source": [
        "# 課題6-3 コード\n",
        "add = lambda a,b:a + b\n",
        "sub = lambda a,b:a - b\n",
        "mul = lambda a,b:a * b\n",
        "div = lambda a,b:a / b\n",
        "ope = [add, sub, mul, div]\n",
        "a = int(input('数字を入力してください'))\n",
        "b = int(input('数字を入力してください'))\n",
        "x = int(input('0,1,2,3のいずれかの数字を入力してください'))\n",
        "ope[x](a,b)\n"
      ],
      "execution_count": null,
      "outputs": [
        {
          "name": "stdout",
          "output_type": "stream",
          "text": [
            "数字を入力してください1\n",
            "数字を入力してください4\n",
            "0,1,2,3のいずれかの数字を入力してください1\n"
          ]
        },
        {
          "output_type": "execute_result",
          "data": {
            "text/plain": [
              "-3"
            ]
          },
          "metadata": {},
          "execution_count": 16
        }
      ]
    },
    {
      "cell_type": "markdown",
      "metadata": {
        "id": "fCw7fo4OPWjM"
      },
      "source": [
        "# 課題6-4\n",
        "これまでは数字を受け取って数字をかえす関数ばかりを扱っていた．関数は数字だけでなく，文字列，リスト，タプル，はては関数まで，多くを引数に取ることが可能である．ここでは，関数とリストを受け取ってリストを返す関数を作成する練習をしよう．\n",
        "\n",
        "テキストに記載のあるプログラムを改造し，関数`f`とリスト`x`を受け取り, `list(map(f,x))`の計算結果と同じオブジェクトを返す関数`mymap()`を作成し，実行せよ\n",
        "\n",
        "ただし，Python の組み込み関数のひとつである`map`関数を使わずに実装すること．\n",
        "ヒント：`for`文を使い，リスト$x$の各要素$x_i$に対して$f(x_i)$を求めればよい．\n",
        "\n",
        "［配点］20点\n",
        "（`map`関数を関数内で使っていなければ満点、そうでなければ0点）"
      ]
    },
    {
      "cell_type": "code",
      "metadata": {
        "id": "14s5BctvPVvE",
        "colab": {
          "base_uri": "https://localhost:8080/"
        },
        "outputId": "0452b45d-3f81-4499-ead0-8dddaab95440"
      },
      "source": [
        "# 課題6-4 コード\n",
        "vect = [1,2,3,4,5]\n",
        "func = lambda x:x**2\n",
        "def mymap(f, x):\n",
        " lst = []\n",
        " for a in x:\n",
        "   lst.append(f(a))\n",
        " return lst\n",
        "print(mymap(func, vect))"
      ],
      "execution_count": null,
      "outputs": [
        {
          "output_type": "stream",
          "name": "stdout",
          "text": [
            "[1, 4, 9, 16, 25]\n"
          ]
        }
      ]
    },
    {
      "cell_type": "markdown",
      "metadata": {
        "id": "Ky3ljC5CPhaW"
      },
      "source": [
        "# 課題6-5\n",
        "テキストに記載のある式(5) で定義される関数g(f, x) を実装せよ．以下の関数を(def 命令などで) 実装し，それぞれの関数のx = 3 の場合の値を出力せよ\n",
        "\n",
        "$f_1(x):=x^2$\n",
        "\n",
        "$f_1'(x):=2x$\n",
        "\n",
        "$\t\\tilde{f}_1'(x):=g(f_1,x)$\n",
        "\n",
        "\n",
        "［配点］10点満点\n",
        "（正しく表示されていれば満点、そうでなければ0点））"
      ]
    },
    {
      "cell_type": "code",
      "metadata": {
        "id": "oulfUq5IPv6t",
        "colab": {
          "base_uri": "https://localhost:8080/"
        },
        "outputId": "d6e48a92-c8be-4b1d-cf59-c3474f73bbd3"
      },
      "source": [
        "# 課題6-5 コードdef func(x, y):\n",
        "def g (f,x):\n",
        "  return (f(x + 0.00001) - f(x))/0.00001\n",
        "def f1(x):\n",
        "  return x**2\n",
        "def f_1(x):\n",
        "  return 2*x\n",
        "def f__1(f,x):\n",
        "  return g(f,x)\n",
        "\n",
        "print(f1(3))\n",
        "print(f_1(3))\n",
        "print(f__1(f1,3))"
      ],
      "execution_count": null,
      "outputs": [
        {
          "output_type": "stream",
          "name": "stdout",
          "text": [
            "9\n",
            "6\n",
            "6.000009999951316\n"
          ]
        }
      ]
    },
    {
      "cell_type": "markdown",
      "metadata": {
        "id": "JDKcaDMSPypl"
      },
      "source": [
        "# 課題6-6\n",
        "課題6-5 で作成したg(f,x) は，「関数f と値x を引数に取り，微分f′ のx における値f′(x) の近似値をかえす関数」であった．課題6-5 のプログラムを改造し，「関数f」を引数に取り，「微分f′の近似値をかえす関数g」を返す作用素d を作成せよ．以下の関数を(def 命令などで) 実装し，それぞれの関数のx = 3 の場合の値を出力せよ\n",
        "\n",
        "\n",
        "$f_2(x):=\\sin(x)$\n",
        "\n",
        "$f_2'(x):=\\cos(x)$\n",
        "\n",
        "$\t\\tilde{f}_2'(x):=d(f_2)(x)$\n",
        "\n",
        "\n",
        "［配点］10点満点\n",
        "（正しく表示されていれば満点、そうでなければ0点））"
      ]
    },
    {
      "cell_type": "code",
      "metadata": {
        "id": "WtTcXk_LQZN4",
        "colab": {
          "base_uri": "https://localhost:8080/"
        },
        "outputId": "9b3016ae-5b2c-479c-a742-d8df28bab514"
      },
      "source": [
        "# 課題6-6 コード\n",
        "def d(f,x):\n",
        "   def g (f,x):\n",
        "    return (f(x + 0.00001) - f(x))/0.00001\n",
        "   return g (f,x)\n",
        "import numpy as np\n",
        "f2 = lambda x:np.sin(x)\n",
        "f2d = lambda x:np.cos(x)\n",
        "f2t = lambda x:d(f2,x)\n",
        "print(f2(3), f2d(3), f2t(3))"
      ],
      "execution_count": null,
      "outputs": [
        {
          "output_type": "stream",
          "name": "stdout",
          "text": [
            "0.1411200080598672 -0.9899924966004454 -0.9899932021883994\n"
          ]
        }
      ]
    },
    {
      "cell_type": "markdown",
      "metadata": {
        "id": "ZyOjeLVRLwgF"
      },
      "source": [
        "# 発展6-1\n",
        "テキストを読み，課題に取り組んでみよ\n",
        "\n",
        "［配点］加点対象とする"
      ]
    },
    {
      "cell_type": "code",
      "metadata": {
        "id": "GW590-PyL--Y",
        "colab": {
          "base_uri": "https://localhost:8080/"
        },
        "outputId": "d65cf2f4-465d-4581-94b9-e4ac20385ba2"
      },
      "source": [
        "# 発展6-1 コード\n",
        "import numpy as np\n",
        "f2 = lambda x:np.sin(x)\n",
        "def d(f):\n",
        "   def g (x):\n",
        "     return (f(x + 0.00001) - f(x))/0.00001\n",
        "   return g\n",
        "d4 = lambda x:d(d(d(d(f2))))(x)\n",
        "print(f2(10))\n",
        "print(d4(10))"
      ],
      "execution_count": 34,
      "outputs": [
        {
          "output_type": "stream",
          "name": "stdout",
          "text": [
            "-0.5440211108893698\n",
            "0.0\n"
          ]
        }
      ]
    },
    {
      "cell_type": "markdown",
      "metadata": {
        "id": "dCzAnjyCL7jY"
      },
      "source": [
        "# 発展6-2\n",
        "テキストを読み，課題に取り組んでみよ\n",
        "\n",
        "［配点］加点対象とする"
      ]
    },
    {
      "cell_type": "code",
      "metadata": {
        "id": "IcqIM3qrMDbQ",
        "colab": {
          "base_uri": "https://localhost:8080/",
          "height": 267
        },
        "outputId": "f3e08e4d-daf3-4de8-c346-338e85d79502"
      },
      "source": [
        "# 発展6-2 コード\n",
        "%matplotlib inline\n",
        "import numpy as np\n",
        "f2 = lambda x:np.sin(x)\n",
        "def d(f):\n",
        "   def g (x):\n",
        "     return (f(x + 0.00001) - f(x))/0.00001\n",
        "   return g\n",
        "d4 = lambda x:d(d(d(d(f2))))(x)\n",
        "import matplotlib.pyplot as plt\n",
        "x = np.arange(-10,10,0.1)\n",
        "plt.plot(x,np.sin(x), x,d4(x))\n",
        "plt.show()"
      ],
      "execution_count": 32,
      "outputs": [
        {
          "output_type": "display_data",
          "data": {
            "text/plain": [
              "<Figure size 432x288 with 1 Axes>"
            ],
            "image/png": "[encoded data removed]"
          },
          "metadata": {
            "needs_background": "light"
          }
        }
      ]
    }
  ]
}