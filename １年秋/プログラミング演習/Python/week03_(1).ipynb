{
  "nbformat": 4,
  "nbformat_minor": 0,
  "metadata": {
    "colab": {
      "provenance": []
    },
    "kernelspec": {
      "name": "python3",
      "display_name": "Python 3"
    }
  },
  "cells": [
    {
      "cell_type": "markdown",
      "metadata": {
        "id": "AQ0lGnfAOU5K"
      },
      "source": [
        "<h1>第3週課題</h1>"
      ]
    },
    {
      "cell_type": "markdown",
      "metadata": {
        "id": "_bEhaTj-ObAA"
      },
      "source": [
        "# 課題3-1\n",
        "テキストに記載のコードを実行し確認せよ。\n",
        "\n",
        "［配点］20点満点（テキスト通りに実行されていれば満点、それ以外は0点）"
      ]
    },
    {
      "cell_type": "code",
      "metadata": {
        "id": "rZgbCm1vOT44",
        "colab": {
          "base_uri": "https://localhost:8080/"
        },
        "outputId": "e7410b59-015d-49d3-ec46-011deaf4a580"
      },
      "source": [
        "# 課題3-1\n",
        "# コードを下記に記述して実行せよ\n",
        "v = list('Rtsumeok')\n",
        "v.insert(1, 'i')\n",
        "v.remove('o')\n",
        "v.extend(['a', 'n'])\n",
        "v.insert(7, 'i')\n",
        "print(v)"
      ],
      "execution_count": null,
      "outputs": [
        {
          "output_type": "stream",
          "name": "stdout",
          "text": [
            "['R', 'i', 't', 's', 'u', 'm', 'e', 'i', 'k', 'a', 'n']\n"
          ]
        }
      ]
    },
    {
      "cell_type": "markdown",
      "metadata": {
        "id": "yYjmn7iwOqvC"
      },
      "source": [
        "# 課題3-2\n",
        "スライスを用いて次のリストの`'c'` から`'e'` までの部分についてのリストを表示せよ．また，`lst[1:6:2]`の結果を確認して，スライスを用いて`['c', 'e', 'g']` が出力されるようにせよ．\n",
        "```python\n",
        "lst=['a', 'b', 'c', 'd', 'e', 'f', 'g', 'h']\n",
        "```\n",
        "\n",
        "［配点］10点\n",
        "（すべて表示されていれば満点、1つのみなら5点、それ以外は0点）"
      ]
    },
    {
      "cell_type": "code",
      "metadata": {
        "id": "XaDhXiBdPCGz",
        "colab": {
          "base_uri": "https://localhost:8080/"
        },
        "outputId": "f3a7be5c-cc9b-4822-b05e-7888dad49af8"
      },
      "source": [
        "# 課題3-2 コード\n",
        "lst=['a', 'b', 'c', 'd', 'e', 'f', 'g', 'h']\n",
        "print(lst[2:5])\n",
        "print(lst[1:6:2])\n",
        "print(lst[2:-1:2])"
      ],
      "execution_count": null,
      "outputs": [
        {
          "output_type": "stream",
          "name": "stdout",
          "text": [
            "['c', 'd', 'e']\n",
            "['b', 'd', 'f']\n",
            "['c', 'e', 'g']\n"
          ]
        }
      ]
    },
    {
      "cell_type": "markdown",
      "metadata": {
        "id": "C3kkRdnUPFuu"
      },
      "source": [
        "# 課題3-3\n",
        "以下の表を参考に3 つの辞書を作成せよ．（辞書の変数はそれぞれ`a`, `b`, `c` とする）\n",
        "\n",
        "※実行結果は表示すること\n",
        "\n",
        "|  | a | b | c |\n",
        "|:-:|:-:|:-:|:-:|\n",
        "|name|John|Betty|Jason|\n",
        "|age|21|22|22|\n",
        "|score|78|86|99|\n",
        "\n",
        "［配点］15点満点\n",
        "正しく作成されていれば満点、1つの辞書が間違いの場合-5"
      ]
    },
    {
      "cell_type": "code",
      "metadata": {
        "id": "9Z9hjrD5PPhr",
        "colab": {
          "base_uri": "https://localhost:8080/"
        },
        "outputId": "74a6c458-35f2-4925-bb0c-c494beb9eda7"
      },
      "source": [
        "# 課題3-3 コード\n",
        "a = {'name':'John', 'age':21, 'score':78}\n",
        "print(a)\n",
        "b = {'name':'Betty', 'age':22, 'score':86}\n",
        "print(b)\n",
        "c = {'name':'Jason', 'age':22, 'score':99}\n",
        "print(c)"
      ],
      "execution_count": 3,
      "outputs": [
        {
          "output_type": "stream",
          "name": "stdout",
          "text": [
            "{'name': 'John', 'age': 21, 'score': 78}\n",
            "{'name': 'Betty', 'age': 22, 'score': 86}\n",
            "{'name': 'Jason', 'age': 22, 'score': 99}\n"
          ]
        }
      ]
    },
    {
      "cell_type": "markdown",
      "metadata": {
        "id": "fCw7fo4OPWjM"
      },
      "source": [
        "# 課題3-4\n",
        "課題3-3 の結果を用いて辞書を要素にもつリスト`scores` を作成せよ．また，`scores[1].get('name')`を実行して結果を確認し，Jasonのscoreである99を出力するためのコードを作成せよ．\n",
        "\n",
        "［配点］15点\n",
        "すべて実行している場合は満点、抜けている場合は1つにつき-5"
      ]
    },
    {
      "cell_type": "code",
      "metadata": {
        "id": "14s5BctvPVvE",
        "colab": {
          "base_uri": "https://localhost:8080/"
        },
        "outputId": "c6c371b0-dc9a-4d16-91b1-34e325d8ae64"
      },
      "source": [
        "# 課題3-4 コード\n",
        "a = {'name':'John', 'age':21, 'score':78}\n",
        "b = {'name':'Betty', 'age':22, 'score':86}\n",
        "c = {'name':'Jason', 'age':22, 'score':99}\n",
        "scores = [a, b, c]\n",
        "print(scores[1].get('name'))\n",
        "print(scores[2].get('score'))"
      ],
      "execution_count": 6,
      "outputs": [
        {
          "output_type": "stream",
          "name": "stdout",
          "text": [
            "Betty\n",
            "99\n"
          ]
        }
      ]
    },
    {
      "cell_type": "markdown",
      "metadata": {
        "id": "Ky3ljC5CPhaW"
      },
      "source": [
        "# 課題3-5\n",
        "次の表を参考に2つのセットを作成せよ．\n",
        "（セットの変数はそれぞれ`s1`と`s2`とする）\n",
        "\n",
        "※実行結果を表示すること\n",
        "\n",
        "| s1 | s2 |\n",
        "|:-:|:-:|\n",
        "|book|note|\n",
        "|dog|pen|\n",
        "|cat|dog|\n",
        "|spoon|fork|\n",
        "|fork||\n",
        "\n",
        "［配点］20点満点\n",
        "（正しく書かれている場合は満点、1つのセットが間違えている場合は-10点\n"
      ]
    },
    {
      "cell_type": "code",
      "metadata": {
        "id": "oulfUq5IPv6t",
        "colab": {
          "base_uri": "https://localhost:8080/"
        },
        "outputId": "2ad12ede-967a-4f71-9e4c-99e416689a61"
      },
      "source": [
        "# 課題3-5 コード\n",
        "s1 = {'book','dog','cat','spoon','fork'}\n",
        "s2 = {'note','pen','dog','fork'}\n",
        "print(s1)\n",
        "print(s2)"
      ],
      "execution_count": null,
      "outputs": [
        {
          "output_type": "stream",
          "name": "stdout",
          "text": [
            "{'fork', 'dog', 'book', 'spoon', 'cat'}\n",
            "{'fork', 'dog', 'pen', 'note'}\n"
          ]
        }
      ]
    },
    {
      "cell_type": "markdown",
      "metadata": {
        "id": "JDKcaDMSPypl"
      },
      "source": [
        "# 課題3-6\n",
        "課題3-5の結果を用いてテキストのコード（p.18）を入力し、内容をすべて出力し確認せよ．\n",
        "\n",
        "［配点］20点\n",
        "すべて表示されていれば満点、抜けているものがあれば-3点/1つ\n"
      ]
    },
    {
      "cell_type": "code",
      "metadata": {
        "id": "WtTcXk_LQZN4",
        "colab": {
          "base_uri": "https://localhost:8080/"
        },
        "outputId": "902176f2-8400-4b74-d734-0d6e0a452a34"
      },
      "source": [
        "# 課題3-6 コード\n",
        "s1 = {'book','dog','cat','spoon','fork'}\n",
        "s2 = {'note','pen','dog','fork'}\n",
        "print(s1.intersection(s2))\n",
        "print(s2.intersection(s1))\n",
        "print(s1.union(s2))\n",
        "print(s2.union(s1))\n",
        "print(s1.difference(s2))\n",
        "print(s2.difference(s1))"
      ],
      "execution_count": null,
      "outputs": [
        {
          "output_type": "stream",
          "name": "stdout",
          "text": [
            "{'fork', 'dog'}\n",
            "{'fork', 'dog'}\n",
            "{'fork', 'dog', 'pen', 'book', 'spoon', 'cat', 'note'}\n",
            "{'fork', 'dog', 'pen', 'book', 'spoon', 'cat', 'note'}\n",
            "{'book', 'spoon', 'cat'}\n",
            "{'pen', 'note'}\n"
          ]
        }
      ]
    }
  ]
}