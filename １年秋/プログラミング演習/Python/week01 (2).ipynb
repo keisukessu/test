{
  "nbformat": 4,
  "nbformat_minor": 0,
  "metadata": {
    "colab": {
      "provenance": []
    },
    "kernelspec": {
      "name": "python3",
      "display_name": "Python 3"
    }
  },
  "cells": [
    {
      "cell_type": "markdown",
      "metadata": {
        "id": "AQ0lGnfAOU5K"
      },
      "source": [
        "<h1>第1週課題</h1>"
      ]
    },
    {
      "cell_type": "markdown",
      "metadata": {
        "id": "_bEhaTj-ObAA"
      },
      "source": [
        "# 課題1-1\n",
        "「基本的なデータ型」について解説した事前学習用の動画を視聴せよ．\n",
        "動画と全く同じコードを下記のコードセルに記述・実行し確認せよ。\n",
        "\n",
        "［配点］20点満点（8種類すべてできているか。1つできていなければ、減点2.5、合計点は四捨五入）"
      ]
    },
    {
      "cell_type": "code",
      "metadata": {
        "id": "rZgbCm1vOT44"
      },
      "source": [
        "# 課題1-1\n",
        "# コードを下記に記述して確認せよ\n",
        "20\n",
        "type(20)\n",
        "type(1.5)\n",
        "'abc'\n",
        "type(\"abc\")\n",
        "1==1\n",
        "1==2\n",
        "None"
      ],
      "execution_count": null,
      "outputs": []
    },
    {
      "cell_type": "markdown",
      "metadata": {
        "id": "yYjmn7iwOqvC"
      },
      "source": [
        "# 課題1-2\n",
        "「変数を使う」ならびに「いろいろな演算子」について解説した事前学習用の動画を視聴せよ．\n",
        "動画と全く同じコードを記述し確認せよ。\n",
        "（続けて実行すればよい．途中で余計なコードが入ってもよい）\n",
        "そのコードと実行結果を含む ipynb ファイル形式で manaba+R に提出せよ． \n",
        "\n",
        "［配点］20点\n",
        "（10種類すべてやっているか、1つ辺り2点）"
      ]
    },
    {
      "cell_type": "code",
      "metadata": {
        "id": "XaDhXiBdPCGz",
        "colab": {
          "base_uri": "https://localhost:8080/",
          "height": 137
        },
        "outputId": "396715b8-9bb1-486a-c743-05154d39a948"
      },
      "source": [
        "# 課題1-2 コード\n",
        "a = 1\n",
        "b = 2\n",
        "a + b\n",
        "s = 'abc'\n",
        "type(s)\n",
        "my_number = 256\n",
        "123a = 1\n",
        "a123 = 1\n",
        "True = 1\n",
        "__a = 1\n",
        "\n",
        "+2\n",
        "-2\n",
        "2+2\n",
        "2/2\n",
        "5%2\n",
        "2**3\n",
        "13/5\n",
        "13//5\n",
        "a=2\n",
        "a\n",
        "a+=2\n",
        "a\n",
        "a=a+2\n",
        "a\n",
        "a==6\n",
        "type(a)\n",
        "a==6.0\n",
        "a!=6\n",
        "a!=3\n",
        "a>1\n",
        "a<1\n",
        "a>=6\n",
        "a<=6\n",
        "True or False\n",
        "True and False\n",
        "True and True\n",
        "not True\n",
        "not False"
      ],
      "execution_count": null,
      "outputs": [
        {
          "output_type": "error",
          "ename": "SyntaxError",
          "evalue": "ignored",
          "traceback": [
            "\u001b[0;36m  File \u001b[0;32m\"<ipython-input-22-fba56f1c8ef7>\"\u001b[0;36m, line \u001b[0;32m8\u001b[0m\n\u001b[0;31m    123a = 1\u001b[0m\n\u001b[0m       ^\u001b[0m\n\u001b[0;31mSyntaxError\u001b[0m\u001b[0;31m:\u001b[0m invalid syntax\n"
          ]
        }
      ]
    },
    {
      "cell_type": "markdown",
      "metadata": {
        "id": "C3kkRdnUPFuu"
      },
      "source": [
        "# 課題1-3\n",
        "変数 `a`,`b`,`c`,`d` の値がそれぞれ `2`,`3`,`4`,`5` の場合，計算結果が `10` になる計算式を考えよ．\n",
        "このとき、すべ ての文字 `a`,`b`,`c`,`d` を用いること．\n",
        "（四則演算（+,-,*,/)，小数点以下を切り捨てる割り算の演算子，累乗の演 算子を使えばできるだろう．） 変数 `a`,`b`,`c`,`d` にそれぞれ `2`,`3`,`4`,`5` を代入した上で，自分で考えた計算式を実行するコードを記述・実行して，確かに計算結果が `10` になっていることを確認せよ．\n",
        "\n",
        "［配点］20点満点\n",
        "すべての文字が使用されていれば満点、1つ抜けていれば-5点"
      ]
    },
    {
      "cell_type": "code",
      "metadata": {
        "id": "9Z9hjrD5PPhr",
        "colab": {
          "base_uri": "https://localhost:8080/"
        },
        "outputId": "aa96ea17-4388-47f8-b239-9e122b00c9d7"
      },
      "source": [
        "# 課題1-3 コード\n",
        "a=2\n",
        "b=3\n",
        "c=4\n",
        "d=5\n",
        "c*d-a*(a+b)"
      ],
      "execution_count": null,
      "outputs": [
        {
          "output_type": "execute_result",
          "data": {
            "text/plain": [
              "10"
            ]
          },
          "metadata": {},
          "execution_count": 18
        }
      ]
    },
    {
      "cell_type": "markdown",
      "metadata": {
        "id": "fCw7fo4OPWjM"
      },
      "source": [
        "# 課題1-4\n",
        "自分の名前をローマ字で表現した文字列を変数 `name` に代入せよ．\n",
        "ただし，名前と苗字の間には半角ス ペースをひとつあけよ．\n",
        "たとえば，立命太郎（リツメイタロウ）の場合，`name = 'Ritsumei Tarou'` とすればよい．\n",
        "続けて変数 `name` の中身を表示した後，変数 `name` の長さを表示するプログラムを作成せよ．\n",
        "\n",
        "［配点］20点\n",
        "関数「len()」を使用していない場合は0点"
      ]
    },
    {
      "cell_type": "code",
      "metadata": {
        "id": "14s5BctvPVvE",
        "colab": {
          "base_uri": "https://localhost:8080/"
        },
        "outputId": "399b4fe4-595c-4cd4-c5ac-5ddc47031255"
      },
      "source": [
        "# 課題1-4 コード\n",
        "name = 'Sonoyama Keisuke'\n",
        "print(name)\n",
        "print(len(name))"
      ],
      "execution_count": null,
      "outputs": [
        {
          "output_type": "stream",
          "name": "stdout",
          "text": [
            "Sonoyama Keisuke\n",
            "16\n"
          ]
        }
      ]
    },
    {
      "cell_type": "markdown",
      "metadata": {
        "id": "Ky3ljC5CPhaW"
      },
      "source": [
        "# 課題1-5\n",
        "課題 1-4 で作ったプログラムを Ritsumei Tarou という名前の場合で実行すると，`14` という数字が表示されていた．\n",
        "しかしこの `14` という数字は名前と苗字の間にある半角スぺースの数も含めた文字の数である．\n",
        "このスペースを文字数としてカウントしないプログラムを作成したい．\n",
        "\n",
        "課題1-4 で作ったプログラムを改造し，変数 `name` の中身を表示した後，名前と苗字の文字数の和を表示\n",
        "するプログラムを作成せよ．\n",
        "(プログラムの実行中に余計な画面表示が行われても良い)．\n",
        "\n",
        "［配点］10点満点\n",
        "名前表示していない場合は-1点（print以外でも表示されていればOK）、関数を使っていない（汎用的でない）は-4点\n"
      ]
    },
    {
      "cell_type": "code",
      "metadata": {
        "id": "oulfUq5IPv6t",
        "colab": {
          "base_uri": "https://localhost:8080/"
        },
        "outputId": "9c13ef92-13c5-46e7-b204-979523959f5d"
      },
      "source": [
        "# 課題1-5 コード\n",
        "name = 'Sonoyama Keisuke'\n",
        "print(name)\n",
        "print(len(name.replace(' ','')))"
      ],
      "execution_count": null,
      "outputs": [
        {
          "output_type": "stream",
          "name": "stdout",
          "text": [
            "Sonoyama Keisuke\n",
            "15\n"
          ]
        }
      ]
    },
    {
      "cell_type": "markdown",
      "metadata": {
        "id": "JDKcaDMSPypl"
      },
      "source": [
        "# 課題1-6\n",
        "Pythonにおける計算ではカッコを使った計算式も使うことができる．\n",
        "例えば，変数 $x$, $y$ を使った\n",
        "$(x+y)^2$ という計算式は `(x+y)**2` というコードで実現ですることもできる．\n",
        "\n",
        "以下の手順でつるかめ算を計算するプログラムを作成せよ．\n",
        "1. 変数 `foot` に鶴と亀の足の数の和として `26` を代入する．\n",
        "2. 変数 `head` に鶴と亀の頭の数の和として `9` を代入する．\n",
        "3. 鶴の頭の数を変数 `foot`,`head` を使って計算し，表示する．\n",
        "4. 亀の頭の数を変数 `foot`,`head` を使って計算し，表示する．\n",
        "\n",
        "［配点］10点\n",
        "他の方法でも結果があっていれば満点\n"
      ]
    },
    {
      "cell_type": "code",
      "metadata": {
        "id": "WtTcXk_LQZN4",
        "colab": {
          "base_uri": "https://localhost:8080/"
        },
        "outputId": "70b12945-5765-48a2-c98d-9108acba0458"
      },
      "source": [
        "# 課題1-6 コード\n",
        "foot=26\n",
        "head=9\n",
        "for x in range(0,head):\n",
        " y=head-x\n",
        " if (2*x+4*y==foot):\n",
        "   print(\"鶴の頭の数は\"f\"{x}\",\"亀の頭の数は\"f\"{y}\")"
      ],
      "execution_count": null,
      "outputs": [
        {
          "output_type": "stream",
          "name": "stdout",
          "text": [
            "鶴の頭の数は5 亀の頭の数は4\n"
          ]
        }
      ]
    },
    {
      "cell_type": "markdown",
      "source": [
        "課題1-6　棚橋君に教わりながら取り組みました。"
      ],
      "metadata": {
        "id": "3NA2vCNWw-UO"
      }
    }
  ]
}