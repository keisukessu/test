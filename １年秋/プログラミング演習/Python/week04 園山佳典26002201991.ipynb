{
  "nbformat": 4,
  "nbformat_minor": 0,
  "metadata": {
    "colab": {
      "provenance": [],
      "collapsed_sections": []
    },
    "kernelspec": {
      "name": "python3",
      "display_name": "Python 3"
    }
  },
  "cells": [
    {
      "cell_type": "markdown",
      "metadata": {
        "id": "AQ0lGnfAOU5K"
      },
      "source": [
        "<h1>第4週課題</h1>"
      ]
    },
    {
      "cell_type": "markdown",
      "metadata": {
        "id": "_bEhaTj-ObAA"
      },
      "source": [
        "# 課題4-1\n",
        "0,1,2,3,...,9 の要素を持つリスト`x`を作成せよ．`x`の要素を`for`文を使ってすべて表示せよ．\n",
        "\n",
        "［配点］20点満点（正しく表示されていれば満点、それ以外は0点）"
      ]
    },
    {
      "cell_type": "code",
      "metadata": {
        "id": "rZgbCm1vOT44",
        "colab": {
          "base_uri": "https://localhost:8080/"
        },
        "outputId": "5f7b7215-a022-48a5-a49e-b18103c88eba"
      },
      "source": [
        "# 課題4-1\n",
        "# コードを下記に記述して実行せよ\n",
        "x = list('0123456789')\n",
        "print(x)\n",
        "a = 0\n",
        "for a in range(0, 10):\n",
        " print(x[a])"
      ],
      "execution_count": null,
      "outputs": [
        {
          "output_type": "stream",
          "name": "stdout",
          "text": [
            "['0', '1', '2', '3', '4', '5', '6', '7', '8', '9']\n",
            "0\n",
            "1\n",
            "2\n",
            "3\n",
            "4\n",
            "5\n",
            "6\n",
            "7\n",
            "8\n",
            "9\n"
          ]
        }
      ]
    },
    {
      "cell_type": "markdown",
      "metadata": {
        "id": "yYjmn7iwOqvC"
      },
      "source": [
        "# 課題4-2\n",
        "あなたは今，冬休みを使ってアメリカへ旅行に来ている．せっかくだから現地のスーパーで肉や野菜を買ってみようと入り込んだはいいが，現地では1 ポンド（pound, 重さの単位）あたりの値段で食品の値段が表示されており，自分のお小遣いで目の前のアメリカ産サーロインステーキが買えるかどうか判断がつかない．（注：外国の中にはヤードポンド法で重量を計測し，量り売りで食料を打っているところがあります．）\n",
        "\n",
        "そこで，キーボードより，1 ポンドあたりの肉の値段，あなたのお小遣い（ドル）を入力させ，200 グラムの肉を購入しようとした場合に予算以内に収まるか判定するプログラムを作成せよ．ただし、購入できる場合と購入できない場合が正しく動いていること\n",
        "\n",
        "ただし，1 ポンドは453.592 グラムとする．\n",
        "\n",
        "［配点］20点\n",
        "（購入できる場合とできない場合が正しく動いていれば満点、どちらか一方であれば-10点）"
      ]
    },
    {
      "cell_type": "code",
      "metadata": {
        "id": "XaDhXiBdPCGz",
        "colab": {
          "base_uri": "https://localhost:8080/"
        },
        "outputId": "ede18e01-4deb-42d7-d3de-9ae7bf720bbd"
      },
      "source": [
        "# 課題4-2 コード\n",
        "price = input('1ポンド当たりの食品の値段')\n",
        "money = input('あなたのお小遣い（ドル）')\n",
        "p = float(price)*(200/453.592)\n",
        "m = float(money)\n",
        "if p<=m:\n",
        "  print('購入できる')\n",
        "else:\n",
        "  print('購入できない')\n",
        "\n"
      ],
      "execution_count": null,
      "outputs": [
        {
          "output_type": "stream",
          "name": "stdout",
          "text": [
            "1ポンド当たりの食品の値段100\n",
            "あなたのお小遣い（ドル）10\n",
            "購入できない\n"
          ]
        }
      ]
    },
    {
      "cell_type": "markdown",
      "metadata": {
        "id": "C3kkRdnUPFuu"
      },
      "source": [
        "# 課題4-3\n",
        "ユーザーから文字列を入力させよ．入力された文字列の文字数が`9`でない場合は，`while`文を使い，入力された文字列の文字数が`9`となるまで，何度でもユーザーから文字列を入力させなおせるプログラムを作成せよ．\n",
        "\n",
        "［配点］20点満点\n",
        "正しく動作していれば満点、そうでなければ0点"
      ]
    },
    {
      "cell_type": "code",
      "metadata": {
        "id": "9Z9hjrD5PPhr",
        "colab": {
          "base_uri": "https://localhost:8080/"
        },
        "outputId": "2363203d-f15e-453f-fa5e-5bc0dffd79c7"
      },
      "source": [
        "# 課題4-3 コード\n",
        "i = input('文字列を入力せよ')\n",
        "while len(i) != 9:\n",
        "  i = input('文字列を入力aせよ')"
      ],
      "execution_count": null,
      "outputs": [
        {
          "name": "stdout",
          "output_type": "stream",
          "text": [
            "文字列を入力せよaaaaa\n",
            "文字列を入力せよaaa\n",
            "文字列を入力せよaaaaaaaaa\n"
          ]
        }
      ]
    },
    {
      "cell_type": "markdown",
      "metadata": {
        "id": "fCw7fo4OPWjM"
      },
      "source": [
        "# 課題4-4\n",
        "ユーザーから３つの人名を文字列として入力させそれぞれ変数`boya`,`boyb`,`boyc` に代入せよ．それぞれの文字列のうち，最も長い文字列を表示するプログラムを作成せよ．最も長い文字列が複数ある場合はその全てを表示するプログラムとせよ．\n",
        "\n",
        "［配点］20点\n",
        "すべてのパターンが正しく動作していれば満点、1つ間違え毎に-4点"
      ]
    },
    {
      "cell_type": "code",
      "metadata": {
        "id": "14s5BctvPVvE",
        "colab": {
          "base_uri": "https://localhost:8080/"
        },
        "outputId": "8f438454-f4c6-4e60-b281-7ab3c79e8181"
      },
      "source": [
        "# 課題4-4 コード\n",
        "boya = input('人名を入力せよ')\n",
        "boyb = input('人名を入力せよ')\n",
        "boyc = input('人名を入力せよ')\n",
        "a = len(boya)\n",
        "b = len(boyb)\n",
        "c = len(boyc)\n",
        "if a > b > c or a > c > b :\n",
        "    print(boya)\n",
        "elif b > a > c or b > c > a:\n",
        "    print(boyb)\n",
        "elif c > b > a or c > a > b:\n",
        "    print(boyc)\n",
        "elif b == a > c :\n",
        "    print(boya)\n",
        "    print(boyb)\n",
        "elif b == c > a :\n",
        "    print(boyb)\n",
        "    print(boyc)\n",
        "elif c == a > b :\n",
        "    print(boya)\n",
        "    print(boyc)\n",
        "elif b == a == c :\n",
        "    print(boya)\n",
        "    print(boyb)\n",
        "    print(boyc)\n"
      ],
      "execution_count": 34,
      "outputs": [
        {
          "output_type": "stream",
          "name": "stdout",
          "text": [
            "人名を入力せよa\n",
            "人名を入力せよaa\n",
            "人名を入力せよhu\n",
            "aa\n",
            "hu\n"
          ]
        }
      ]
    },
    {
      "cell_type": "markdown",
      "metadata": {
        "id": "Ky3ljC5CPhaW"
      },
      "source": [
        "# 課題4-5\n",
        "円周率を数値計算で計算することにチャレンジしよう．いくつか円周率を得る方法はあるが，最もシンプルな（だが性能はあまりよくない）もののひとつは，逆正接関数$\\tan^{-1}(x)$ をマクローリン展開した公式を使うことである（テキスト参照）．\n",
        "\n",
        "右辺の級数を第10項まで足した結果を表示するプログラムを`for`や`while`文などを使っ\n",
        "て作成せよ．\n",
        "\n",
        "ヒント：`n=range(100)` などとして，`n`のそれぞれの値に対して，第`n`項の値を計算する．あとはそれらの値を順番に別の変数`sum`などを用意して足していけば良い．\n",
        "\n",
        "［配点］10点満点\n",
        "（正しく表示されていれば満点、そうでなければ0点）\n"
      ]
    },
    {
      "cell_type": "code",
      "metadata": {
        "id": "oulfUq5IPv6t",
        "colab": {
          "base_uri": "https://localhost:8080/"
        },
        "outputId": "97af3f69-a10c-4add-c790-1520cd256772"
      },
      "source": [
        "# 課題4-5 コード\n",
        "sum = 0\n",
        "for n in range(0,10):\n",
        " a = ((-1)**n)/(2*n+1)\n",
        " sum += a\n",
        "print(sum)"
      ],
      "execution_count": null,
      "outputs": [
        {
          "output_type": "stream",
          "name": "stdout",
          "text": [
            "0.7604599047323508\n"
          ]
        }
      ]
    },
    {
      "cell_type": "markdown",
      "metadata": {
        "id": "JDKcaDMSPypl"
      },
      "source": [
        "# 課題4-6\n",
        "以下と同じ意味のコードを`continue`文を使わずに記述し，実行せよ．\n",
        "\n",
        "```python\n",
        "for x in range(10):\n",
        "   if x > 5:\n",
        "      print('large')\n",
        "      continue\n",
        "   print(x)\n",
        "```\n",
        "\n",
        "［配点］10点\n",
        "他の方法でも結果があっていれば満点\n"
      ]
    },
    {
      "cell_type": "code",
      "metadata": {
        "id": "WtTcXk_LQZN4",
        "colab": {
          "base_uri": "https://localhost:8080/"
        },
        "outputId": "a053aff5-940e-4654-b829-65c6efec730a"
      },
      "source": [
        "# 課題4-6 コード\n",
        "for x in range(10):\n",
        "   if x > 5:\n",
        "      print('large')\n",
        "   else:\n",
        "      print(x)"
      ],
      "execution_count": null,
      "outputs": [
        {
          "output_type": "stream",
          "name": "stdout",
          "text": [
            "0\n",
            "1\n",
            "2\n",
            "3\n",
            "4\n",
            "5\n",
            "large\n",
            "large\n",
            "large\n",
            "large\n"
          ]
        }
      ]
    }
  ]
}