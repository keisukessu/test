{
  "nbformat": 4,
  "nbformat_minor": 0,
  "metadata": {
    "colab": {
      "provenance": []
    },
    "kernelspec": {
      "name": "python3",
      "display_name": "Python 3"
    }
  },
  "cells": [
    {
      "cell_type": "markdown",
      "metadata": {
        "id": "AQ0lGnfAOU5K"
      },
      "source": [
        "<h1>第5週課題</h1>"
      ]
    },
    {
      "cell_type": "markdown",
      "metadata": {
        "id": "_bEhaTj-ObAA"
      },
      "source": [
        "# 課題5-1\n",
        "テキストにあるコードを入力して，実行し，生成されたファイルを確認せよ．\n",
        "その次に，コードの`'utf-8'`の部分を`'shift-jis'`に変更して実行し，生成されたファイルを確認せよ\n",
        "（Google Colaboratoryでは左ペインにファイル一覧を表示し，ダブルクリックすれば内容を表示できる）．\n",
        "この2つの違いの原因についてテキストセルに記述せよ．\n",
        "\n",
        "［配点］20点満点"
      ]
    },
    {
      "cell_type": "code",
      "metadata": {
        "id": "rZgbCm1vOT44",
        "colab": {
          "base_uri": "https://localhost:8080/"
        },
        "outputId": "fd47a652-39cc-4ecf-968c-aeb9c2c97759"
      },
      "source": [
        "# 課題5-1\n",
        "# コードを下記に記述して実行せよ\n",
        "f=open('temp.txt',mode='w',encoding='utf-8')\n",
        "f.write('test\\n')\n",
        "f.write('あいうえお\\n')\n",
        "f.close()\n",
        "!more temp.txt\n",
        "f=open('temp.txt',mode='w',encoding='shift-jis')\n",
        "f.write('test\\n')\n",
        "f.write('あいうえお\\n')\n",
        "f.close()\n",
        "!more temp.txt"
      ],
      "execution_count": 15,
      "outputs": [
        {
          "output_type": "stream",
          "name": "stdout",
          "text": [
            "test\n",
            "あいうえお\n",
            "test\n",
            "����������\n"
          ]
        }
      ]
    },
    {
      "cell_type": "markdown",
      "metadata": {
        "id": "Y7ic2VZk4wKm"
      },
      "source": [
        "## 課題5-1 違いの原因記述欄\n",
        "utf-8ではひらがなに対応しているがshift-jisではひらがなに対応していないため。"
      ]
    },
    {
      "cell_type": "markdown",
      "metadata": {
        "id": "yYjmn7iwOqvC"
      },
      "source": [
        "# 課題5-2\n",
        "課題5-1 のコード（`'utf-8'`のほう）を実行したのちにテキストに\n",
        "記載されたコードを実行すると`['test\\n', ' あいうえお\\n']`のような結果がかえってくる．まず，テキストに記載のあるコードを実行して確認せよ．\n",
        "\n",
        "この結果を，`for` 文，`strip()`メソッドを用いて`['test', ' あいうえお']`のような新しいリスト`w`を作成せよ．\n",
        "\n",
        "\n",
        "［配点］20点\n",
        "（正しく表示されていれば満点、そうでなければ0点）"
      ]
    },
    {
      "cell_type": "code",
      "metadata": {
        "id": "XaDhXiBdPCGz",
        "colab": {
          "base_uri": "https://localhost:8080/"
        },
        "outputId": "d028c4b3-9414-42c6-e16f-d621f51fa4b8"
      },
      "source": [
        "# 課題5-2 コード\n",
        "f=open('temp.txt',mode='w',encoding='utf-8')\n",
        "f.write('test\\n')\n",
        "f.write('あいうえお\\n')\n",
        "f.close()\n",
        "\n",
        "f=open('temp.txt',encoding='utf-8')\n",
        "v=f.readlines()\n",
        "f.close()\n",
        "print(v)\n",
        "\n",
        "f=open('temp.txt',encoding='utf-8')\n",
        "w=[]\n",
        "for i in range(2):\n",
        "   a=v[i].strip()\n",
        "   w.append(a)\n",
        "f.close()\n",
        "print(w)"
      ],
      "execution_count": 43,
      "outputs": [
        {
          "output_type": "stream",
          "name": "stdout",
          "text": [
            "['test\\n', 'あいうえお\\n']\n",
            "['test', 'あいうえお']\n"
          ]
        }
      ]
    },
    {
      "cell_type": "markdown",
      "metadata": {
        "id": "C3kkRdnUPFuu"
      },
      "source": [
        "# 課題5-3\n",
        "`a={'name':'John', 'age':21, 'score':78}` を用いて次のようなファイルを生成するプログラムを空欄を埋めて完成せよ．プログラムは，テキストに記載されている．\n",
        "```\n",
        "name/John\n",
        "age/21\n",
        "score/78\n",
        "```\n",
        "\n",
        "［配点］15点満点\n",
        "（正しい出力、ファイル名であれば満点、間違いがあれば-5点/1つ）"
      ]
    },
    {
      "cell_type": "code",
      "metadata": {
        "id": "9Z9hjrD5PPhr",
        "colab": {
          "base_uri": "https://localhost:8080/"
        },
        "outputId": "c43c1aa6-6190-454e-b39e-1c78540b6413"
      },
      "source": [
        "# 課題5-3 コード\n",
        "data={'name':'John','age':21,'score':78}\n",
        "with open('dict.txt',mode='w',encoding='utf-8')as f:\n",
        "  f.write('name/' + data['name'] + '\\n'),\n",
        "  f.write('age/' + str(data['age']) + '\\n')\n",
        "  f.write('score/' + str(data['score']) + '\\n')\n",
        "!more dict.txt"
      ],
      "execution_count": 12,
      "outputs": [
        {
          "output_type": "stream",
          "name": "stdout",
          "text": [
            "name/John\n",
            "age/21\n",
            "score/78\n"
          ]
        }
      ]
    },
    {
      "cell_type": "markdown",
      "metadata": {
        "id": "fCw7fo4OPWjM"
      },
      "source": [
        "# 課題5-4\n",
        "`input()`関数は\n",
        "`x = input('Please Enter Number: ')`のように\n",
        "使用することができ，実行すると画面に\n",
        "`Please Enter Number:`が出力され，ユーザのキー入力を待つ．\n",
        "ユーザがキー入力したのちエンタキーを打つと`x`にユーザが入力した内容が文字列をして格納される．\n",
        "`input()`関数を用いてユーザに入力を実行させ，入力結果をファイルに書き込むプログラムを作成せよ．ただし，ファイル名は`user.txt`とする．\n",
        "\n",
        "［配点］15点\n",
        "（正しく表示されていれば満点、そうでなければ0点）"
      ]
    },
    {
      "cell_type": "code",
      "metadata": {
        "id": "14s5BctvPVvE",
        "colab": {
          "base_uri": "https://localhost:8080/"
        },
        "outputId": "9d3a41ba-aa07-4b07-e345-c47edc9f4c5d"
      },
      "source": [
        "# 課題5-4 コード\n",
        "x = input('Please Enter Number:')\n",
        "f = open('user.txt',mode='w',encoding='utf-8')\n",
        "f.write(x)\n",
        "f.close()\n",
        "!more user.txt"
      ],
      "execution_count": 46,
      "outputs": [
        {
          "output_type": "stream",
          "name": "stdout",
          "text": [
            "Please Enter Number:aaa\n",
            "aaa\n"
          ]
        }
      ]
    },
    {
      "cell_type": "markdown",
      "metadata": {
        "id": "Ky3ljC5CPhaW"
      },
      "source": [
        "# 課題5-5\n",
        "課題5-4 を，繰り返しユーザの入力を受けてファイルに書き込むプログラムに変更せよ．ただし，ユーザが`q`を入力すると繰り返し作業を終えプログラムを終了するようにせよ．また，各入力をファイルに書き込む際は改行コードを追加してファイルを見やすくすること．\n",
        "\n",
        "ただし，ファイル名は`user2.txt`とし，終了指示の文字`q`自体はテキストファイルに書き込まないこととする．\n",
        "\n",
        "［配点］15点満点\n",
        "（正しく表示されていれば満点、`q`が入っていれば-5点、改行がない場合は-5点）\n"
      ]
    },
    {
      "cell_type": "code",
      "metadata": {
        "id": "oulfUq5IPv6t",
        "colab": {
          "base_uri": "https://localhost:8080/"
        },
        "outputId": "33fccf08-3af9-41c8-c7fa-973ccad3d21c"
      },
      "source": [
        "# 課題5-5 コード\n",
        "x = input('Please Enter Number:')\n",
        "f = open('user2.txt',mode='w',encoding='utf-8')\n",
        "while x != 'q':\n",
        "  f.write(x+'\\n')\n",
        "  x = input('Please Enter Number:')\n",
        "f.close()\n",
        "!more user2.txt"
      ],
      "execution_count": 2,
      "outputs": [
        {
          "output_type": "stream",
          "name": "stdout",
          "text": [
            "Please Enter Number:a\n",
            "Please Enter Number:a\n",
            "Please Enter Number:c\n",
            "Please Enter Number:q\n",
            "a\n",
            "a\n",
            "c\n"
          ]
        }
      ]
    },
    {
      "cell_type": "markdown",
      "metadata": {
        "id": "JDKcaDMSPypl"
      },
      "source": [
        "# 課題5-6\n",
        "メモ帳を開いてPython の作業フォルダに次の内容を持つファイルfruits.txt を作成せよ．\n",
        "\n",
        "```\n",
        "apple\n",
        "banana\n",
        "apple\n",
        "lemon\n",
        "apple\n",
        "orange\n",
        "```\n",
        "このファイルを読み込んで`apple`の数を数えて出力するプログラムを作成せよ．\n",
        "\n",
        "［配点］15点\n",
        "（正しく表示されていれば満点、そうでなければ0点）\n"
      ]
    },
    {
      "cell_type": "code",
      "metadata": {
        "id": "WtTcXk_LQZN4",
        "colab": {
          "base_uri": "https://localhost:8080/"
        },
        "outputId": "66d8d8f9-1e31-41c3-c360-ac20e49977b8"
      },
      "source": [
        "# 課題5-6 コード\n",
        "f = open('fruits.txt',mode='r',encoding='utf-8')\n",
        "w=[]\n",
        "v = f.readlines()\n",
        "for i in range(6):\n",
        "  a = v[i].strip()\n",
        "  w.append(a)\n",
        "sum = 0\n",
        "for b in w:\n",
        "  if b == 'apple':\n",
        "    sum += 1\n",
        "  else:\n",
        "    sum += 0\n",
        "f.close()\n",
        "print(sum)\n"
      ],
      "execution_count": 2,
      "outputs": [
        {
          "output_type": "stream",
          "name": "stdout",
          "text": [
            "3\n"
          ]
        }
      ]
    }
  ]
}