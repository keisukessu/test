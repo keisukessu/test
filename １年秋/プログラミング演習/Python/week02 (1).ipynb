{
  "nbformat": 4,
  "nbformat_minor": 0,
  "metadata": {
    "colab": {
      "provenance": [],
      "collapsed_sections": []
    },
    "kernelspec": {
      "name": "python3",
      "display_name": "Python 3"
    }
  },
  "cells": [
    {
      "cell_type": "markdown",
      "metadata": {
        "id": "AQ0lGnfAOU5K"
      },
      "source": [
        "<h1>第2週課題</h1>"
      ]
    },
    {
      "cell_type": "markdown",
      "metadata": {
        "id": "_bEhaTj-ObAA"
      },
      "source": [
        "# 課題2-1\n",
        "Python3.5 ではユーザーからの入力を受け付ける関数としてinput() という関数が用意されている．\n",
        "input() 関数は引数として文字列を受け取り，その文字列を表示した上で，ユーザーから入力を受け付け，\n",
        "受け付けた入力を文字列としてかえす．\n",
        "\n",
        "例えば，以下のコードを考えよう．\n",
        "\n",
        "```python\n",
        "name = input('What is your name?')\n",
        "print('Your name is' + name)\n",
        "```\n",
        "このコード１行目では，What is your name?と画面に表示し，ユーザーに文字列を入力させる．そして，\n",
        "変数name に入力された文字列が代入される．２行目では，Your name is と表示し，その後，ユーザーか\n",
        "ら入力された文字列を表示する．（実際に実行してみよう）\n",
        "\n",
        "キーボードから名前と趣味をそれぞれ入力させ，「～～～の趣味は～～～」であると画面表示するプログラムを作成せよ．\n",
        "\n",
        "［配点］20点満点（名前の入力、趣味の入力、名前と趣味の出力ができていれば満点、1つ抜けていれば減点5）。input関数を使用していない場合は0点"
      ]
    },
    {
      "cell_type": "code",
      "source": [
        "name = input('What is your name?')\n",
        "print('Your name is' + name)"
      ],
      "metadata": {
        "id": "W0FJnieXluiq",
        "colab": {
          "base_uri": "https://localhost:8080/"
        },
        "outputId": "3ea16b6e-4e08-4ec1-d73f-041d8b050ba0"
      },
      "execution_count": null,
      "outputs": [
        {
          "output_type": "stream",
          "name": "stdout",
          "text": [
            "What is your name?aaa\n",
            "Your name isaaa\n"
          ]
        }
      ]
    },
    {
      "cell_type": "code",
      "metadata": {
        "id": "rZgbCm1vOT44",
        "colab": {
          "base_uri": "https://localhost:8080/"
        },
        "outputId": "2c3007d7-e2d2-441c-95df-8d1475bd1e52"
      },
      "source": [
        "# 課題2-1\n",
        "# コードを下記に記述して実行せよ\n",
        "name = input(\"What is your name?\")\n",
        "hobby = input(\"What is your hobby?\")\n",
        "print(name + \"の趣味は\" + hobby)\n"
      ],
      "execution_count": null,
      "outputs": [
        {
          "output_type": "stream",
          "name": "stdout",
          "text": [
            "What is your name?園山佳典\n",
            "What is your hobby?運動\n",
            "園山佳典の趣味は運動\n"
          ]
        }
      ]
    },
    {
      "cell_type": "markdown",
      "metadata": {
        "id": "yYjmn7iwOqvC"
      },
      "source": [
        "# 課題2-2\n",
        "２つの数字をユーザーに入力させ，その和を計算するプログラムを作成したい．しかし，以下のコードは\n",
        "意図通りの動作を示さない(確認してみよ)．\n",
        "\n",
        "```python\n",
        "a = input('Input a number:')\n",
        "b = input('Input a number:')\n",
        "c = a + b\n",
        "print('Sum is ', c)\n",
        "```\n",
        "\n",
        "\n",
        "\n",
        "理由は，`input()` 関数は受け付けた文字を文字列として返すのでこのままでは文字列の連結とみなされてしまうからである．\n",
        "そこで，文字列を数字に変換する関数として，`int` 関数や`float` 関数を活用しよう．\n",
        "```python\n",
        "d = int(\"14\")\n",
        "e = float(\"1.23\")\n",
        "print('int(\"14\") = ', d)\n",
        "print('float(\"1.23\") = ', e)\n",
        "```\n",
        "`int(\"14\")` というコードは文字列としての `\"14\"` を整数の`14`に変換する関数である．\n",
        "`float(\"1.23\")` というコードは文字列としての`\"1.23\"`を小数の`1.23` に変換する関数である．\n",
        "\n",
        "`input()`, `int()`, `float()` 関数などを使い，２つの数字をユーザーに入力させ，その和を計算するプログラムを作成せよ．\n",
        "\n",
        "※計算結果を表示せよ\n",
        "\n",
        "［配点］20点\n",
        "（input関数を使用していない場合は0点）"
      ]
    },
    {
      "cell_type": "code",
      "metadata": {
        "id": "XaDhXiBdPCGz",
        "outputId": "6862e46e-3638-40fa-986f-824432f0af7c",
        "colab": {
          "base_uri": "https://localhost:8080/"
        }
      },
      "source": [
        "# 課題2-2 コード\n",
        "a = input('Input a number:')\n",
        "b = input('Input a number:')\n",
        "d = int(a)\n",
        "e = int(b)\n",
        "c = d + e\n",
        "print ('Sum is ', c)"
      ],
      "execution_count": null,
      "outputs": [
        {
          "output_type": "stream",
          "name": "stdout",
          "text": [
            "Input a number:1\n",
            "Input a number:2\n",
            "Sum is  3\n"
          ]
        }
      ]
    },
    {
      "cell_type": "markdown",
      "metadata": {
        "id": "C3kkRdnUPFuu"
      },
      "source": [
        "# 課題2-3\n",
        "ひとつの文字列を入力させ，入力された文字列を大文字に変換した上で，それに含まれる「A」という文字を全て「B」に変換せよ．変換した文字列を表示するプログラムを作成せよ．例えば，abcdef と入力された場合はBBCDEF と表示されれば合格である．\n",
        "\n",
        "［配点］20点満点\n",
        "（aの文字が含まれていない場合は0点、できていない処理1つごとに5点減点、関数を使用していない場合5点減点）"
      ]
    },
    {
      "cell_type": "code",
      "metadata": {
        "id": "9Z9hjrD5PPhr",
        "colab": {
          "base_uri": "https://localhost:8080/"
        },
        "outputId": "a6dfb051-7616-47a7-a7dc-04dbcf106bcd"
      },
      "source": [
        "# 課題2-3 コード\n",
        "a = 'abcabc'\n",
        "A = a.upper()\n",
        "B = A.replace('A','B')\n",
        "print(B)\n"
      ],
      "execution_count": 10,
      "outputs": [
        {
          "output_type": "stream",
          "name": "stdout",
          "text": [
            "BBCBBC\n"
          ]
        }
      ]
    },
    {
      "cell_type": "markdown",
      "metadata": {
        "id": "fCw7fo4OPWjM"
      },
      "source": [
        "# 課題2-4\n",
        "ロボットをはじめとする実世界に関連したプログラムを書くには，三角関数は必須であるといってもよいだろう．sin 関数やcos 関数はnumpy モジュールに入っている．以下のようにimport numpy as np などを使用前に宣言する．\n",
        "```python\n",
        "import numpy as np\n",
        "print(np.sin(3))\n",
        "```\n",
        "上記のimport はnumpy モジュールをnp という名前で使用可能にするものである．np.sin の部分がsin関数という意味である．上記プログラムはsin(3) の値を表示する．同様に，numpy モジュールにはcos; tan などが入っている．使うときにはnp.cos やnp.tan などとかく．「numpy 円周率」などでGoogle 検索をかけ，円周率\u0019 を表示するプログラムを作成せよ．\n",
        "\n",
        "注）この課題は文法事項を自分で検索する能力をつけるための練習だから，友達に直接的な答えを教えないように．調べ方を教えてあげよう．\n",
        "\n",
        "［配点］20点\n",
        "numpyモジュールを使用していない場合は0点"
      ]
    },
    {
      "cell_type": "code",
      "metadata": {
        "id": "14s5BctvPVvE",
        "colab": {
          "base_uri": "https://localhost:8080/"
        },
        "outputId": "28e575a7-08d9-4ab0-a783-9a137b6e25b3"
      },
      "source": [
        "# 課題2-4 コード\n",
        "import numpy as np\n",
        "print(np.pi)"
      ],
      "execution_count": 11,
      "outputs": [
        {
          "output_type": "stream",
          "name": "stdout",
          "text": [
            "3.141592653589793\n"
          ]
        }
      ]
    },
    {
      "cell_type": "markdown",
      "metadata": {
        "id": "Ky3ljC5CPhaW"
      },
      "source": [
        "# 課題2-5\n",
        "あなたはある国民的アイドルグループのファンである．しかし，残念なことに，そのアイドルグループは解散してしまったようである．最終活動日は2016 年12 月31 日であった．この最終活動日が何曜日か調べるプログラムをかけ．必ずしも○○曜日と表示する必要はない．例えば，月曜日なら数字の0 を，火曜日なら数字の1 を，．．．，日曜日なら数字の6 を表示することで曜日の表示として代用してよい．\n",
        "\n",
        "［配点］10点満点\n",
        "（モジュールなどを用いていればOK。直接記入している場合は0点）\n"
      ]
    },
    {
      "cell_type": "code",
      "metadata": {
        "id": "oulfUq5IPv6t",
        "colab": {
          "base_uri": "https://localhost:8080/"
        },
        "outputId": "9524310d-0c90-4467-881c-3432783d93b1"
      },
      "source": [
        "# 課題2-5 コード\n",
        "import datetime as dt\n",
        "final = dt.date(2016,12,31)\n",
        "print(final.weekday())\n"
      ],
      "execution_count": 28,
      "outputs": [
        {
          "output_type": "stream",
          "name": "stdout",
          "text": [
            "5\n"
          ]
        }
      ]
    },
    {
      "cell_type": "markdown",
      "metadata": {
        "id": "JDKcaDMSPypl"
      },
      "source": [
        "# 課題2-6\n",
        "大文字のみからなる文字列を入力させ，入力された文字列の「A」の部分を「B」に，「B」の部分を「A」に変更するプログラムを作成せよ．例えば，「AAABBBCCC」という入力をした場合，「BBBAAACCC」という出力が出れば合格である．「AAAAAACCC」や「BBBBBBCCC」とならないように注意せよ．\n",
        "\n",
        "なお，入力された文字列が大文字のみからなることのチェックする機能は実装しなくてよい．\n",
        "\n",
        "ヒント：A を何か適当な小文字に変換，B をA に変換，その後，ある操作をすれば達成できる．\n",
        "\n",
        "［配点］10点\n",
        "（正しく変換されていない、直接書き込んでいる場合は0点、関数を使用していない場合減点5/1つ）\n"
      ]
    },
    {
      "cell_type": "code",
      "metadata": {
        "id": "WtTcXk_LQZN4",
        "colab": {
          "base_uri": "https://localhost:8080/"
        },
        "outputId": "74f20e42-55e4-4fbf-9760-2ac7aacee857"
      },
      "source": [
        "# 課題2-6 コード\n",
        "a = 'AACCBB'\n",
        "Atz = a.replace('A','z')\n",
        "BtA = Atz.replace('B','A')\n",
        "ztB = BtA.replace('z','B')\n",
        "print(ztB)\n",
        "\n"
      ],
      "execution_count": 25,
      "outputs": [
        {
          "output_type": "stream",
          "name": "stdout",
          "text": [
            "BBCCAA\n"
          ]
        }
      ]
    }
  ]
}