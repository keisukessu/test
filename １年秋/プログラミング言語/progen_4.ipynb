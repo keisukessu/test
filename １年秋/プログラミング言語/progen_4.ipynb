{
  "cells": [
    {
      "cell_type": "markdown",
      "metadata": {
        "id": "VRDbC7eXJgFq"
      },
      "source": [
        "# 前回の内容\n",
        "関数、スコープ、モジュール\n",
        "* プログラムの構造化と詳細の隠蔽\n",
        "  * 分解と抽象化\n",
        "* 関数\n",
        "* スコープ\n",
        "* モジュール\n",
        "\n"
      ]
    },
    {
      "cell_type": "markdown",
      "metadata": {
        "id": "HttbGKozJnkI"
      },
      "source": [
        "# 今回の内容\n",
        "\n",
        "* ~再帰~\n",
        "* タプル\n",
        "* リスト\n",
        "* 可変性\n",
        "* エイリアシング\n",
        "* クローン"
      ]
    },
    {
      "cell_type": "markdown",
      "metadata": {
        "id": "nZO17YxKklKO"
      },
      "source": [
        "# 型\n",
        "\n",
        "* int, float, bool, string, rangeなどは既にやった\n",
        "\n",
        "* 構造型\n",
        "  * タプル\n",
        "  * リスト\n",
        "* エイリアシング (aliasing)\n",
        "* 可変性 (mutability)\n",
        "* クローン (cloning)\n"
      ]
    },
    {
      "cell_type": "markdown",
      "metadata": {},
      "source": [
        "# タプル\n",
        "* 要素を**順番**に並べたもの（文字列のよう）\n",
        "* 要素の値には添字でアクセスできる\n",
        "* 要素は複数の型が混ざっていてもOK\n",
        "    * `(2, \"matsumura\", 3.14, 5, 6, 7)`\n",
        "* 要素の値を変更することはできない = **不変性＝immutable**\n",
        "* 丸括弧で表す\n",
        "* `t = (3)`はタプルではない"
      ]
    },
    {
      "cell_type": "code",
      "execution_count": null,
      "metadata": {
        "id": "CqIdFm6Ekk0e"
      },
      "outputs": [],
      "source": [
        "empty = ()"
      ]
    },
    {
      "cell_type": "code",
      "execution_count": null,
      "metadata": {},
      "outputs": [],
      "source": [
        "t = (2, \"matsumura\", 3.14, 5, 6, 7)\n",
        "t[0]"
      ]
    },
    {
      "cell_type": "code",
      "execution_count": null,
      "metadata": {},
      "outputs": [],
      "source": [
        "t = (3)"
      ]
    },
    {
      "cell_type": "code",
      "execution_count": null,
      "metadata": {},
      "outputs": [],
      "source": [
        "t = (3,)"
      ]
    },
    {
      "cell_type": "code",
      "execution_count": null,
      "metadata": {},
      "outputs": [],
      "source": [
        "t = (2, \"matsumura\", 3.14) + (5, 6, 7)\n",
        "t[1:2]\n",
        "t[1:3]\n",
        "len(t)"
      ]
    },
    {
      "cell_type": "code",
      "execution_count": null,
      "metadata": {},
      "outputs": [],
      "source": [
        "t = (2, \"matsumura\", 3.14) + (5, 6, 7)\n",
        "t[1] = \"yamada\""
      ]
    },
    {
      "cell_type": "code",
      "execution_count": 28,
      "metadata": {},
      "outputs": [],
      "source": [
        "t = (2, \"matsumura\", 3.14) * 3"
      ]
    },
    {
      "cell_type": "markdown",
      "metadata": {},
      "source": [
        "# タプルの活用\n",
        "変数の値を入れ替える時に便利"
      ]
    },
    {
      "cell_type": "code",
      "execution_count": 15,
      "metadata": {},
      "outputs": [
        {
          "name": "stdout",
          "output_type": "stream",
          "text": [
            "3 3\n"
          ]
        }
      ],
      "source": [
        "x = 10\n",
        "y = 3\n",
        "x = y\n",
        "y = x\n",
        "print(x,y)"
      ]
    },
    {
      "cell_type": "code",
      "execution_count": null,
      "metadata": {},
      "outputs": [],
      "source": [
        "x = 10\n",
        "y = 3\n",
        "\n",
        "temp = x\n",
        "x = y\n",
        "y = temp\n",
        "print(x,y)"
      ]
    },
    {
      "cell_type": "code",
      "execution_count": null,
      "metadata": {},
      "outputs": [],
      "source": [
        "x = 10\n",
        "y = 3\n",
        "\n",
        "(x,y) = (y,x)\n",
        "print(x,y)"
      ]
    },
    {
      "cell_type": "markdown",
      "metadata": {},
      "source": [
        "# タプルの活用\n",
        "関数において複数の値を返すのに便利"
      ]
    },
    {
      "cell_type": "code",
      "execution_count": null,
      "metadata": {},
      "outputs": [],
      "source": [
        "def pow23(x):\n",
        "    return (x**2, x**3)\n",
        "\n",
        "(a2, a3) = pow23(3)\n",
        "print(a2, a3)"
      ]
    },
    {
      "cell_type": "code",
      "execution_count": null,
      "metadata": {},
      "outputs": [],
      "source": [
        "def quotient_and_remainder(x,y):\n",
        "    q = x//y\n",
        "    r = x%y\n",
        "    return(q,r)\n",
        "    \n",
        "(q, r) = quotient_and_remainder(11,5)\n",
        "print(q,r)"
      ]
    },
    {
      "cell_type": "code",
      "execution_count": null,
      "metadata": {},
      "outputs": [],
      "source": [
        "def get_data(aTuple):\n",
        "    \"\"\"\n",
        "    * この関数はどんな入力をとるか？\n",
        "    * 数の最小値と最大値、ユニークな単語数を出力\n",
        "    \"\"\"\n",
        "    nums = ()\n",
        "    words = ()\n",
        "    for t in aTuple:\n",
        "        nums = nums + (t[0],)\n",
        "        if t[1] not in words:\n",
        "            words = words + (t[1],)\n",
        "    min_n = min(nums)\n",
        "    max_n = max(nums)\n",
        "    unique_words = len(words)\n",
        "    return (min_n, max_n, unique_words)"
      ]
    },
    {
      "cell_type": "markdown",
      "metadata": {},
      "source": [
        "# リスト\n",
        "* 要素を順番に並べたもの（タプルと同様）\n",
        "* 要素の値は添字でアクセスできる\n",
        "* 角カッコ（`[`,`]`）を用いて表す（タプルは丸カッコ）\n",
        "* リストは要素を持つ\n",
        "    * 要素は**普通**は単一の型を持つ（例えば全部整数とか）\n",
        "    * 複数の型を混ぜても良い（あまりやらない）\n",
        "* リストの値は変更可能（可変=mutable）\n",
        "\n"
      ]
    },
    {
      "cell_type": "code",
      "execution_count": null,
      "metadata": {},
      "outputs": [],
      "source": [
        "a_list = []\n",
        "a_list"
      ]
    },
    {
      "cell_type": "code",
      "execution_count": null,
      "metadata": {},
      "outputs": [],
      "source": [
        "L = [2, \"kohei\", 3.14, [1,2,3,4], 5]\n",
        "len(L)"
      ]
    },
    {
      "cell_type": "code",
      "execution_count": null,
      "metadata": {},
      "outputs": [],
      "source": [
        "L[0]"
      ]
    },
    {
      "cell_type": "code",
      "execution_count": null,
      "metadata": {},
      "outputs": [],
      "source": [
        "L[2] + 1.1"
      ]
    },
    {
      "cell_type": "code",
      "execution_count": null,
      "metadata": {},
      "outputs": [],
      "source": [
        "L[3]"
      ]
    },
    {
      "cell_type": "code",
      "execution_count": null,
      "metadata": {},
      "outputs": [],
      "source": [
        "L[5]"
      ]
    },
    {
      "cell_type": "code",
      "execution_count": null,
      "metadata": {},
      "outputs": [],
      "source": [
        "i = 2\n",
        "L[i-1]"
      ]
    },
    {
      "cell_type": "markdown",
      "metadata": {},
      "source": [
        "# リストの値の変更\n",
        "* リストは**可変**であるから要素の値を変更可能\n",
        "\n",
        "```\n",
        "L = [1,2,3,4,5,6]\n",
        "L[1] = 7\n",
        "```\n",
        "\n",
        "`L = [1,7,3,4,5,6]`に更新される"
      ]
    },
    {
      "cell_type": "code",
      "execution_count": null,
      "metadata": {},
      "outputs": [],
      "source": [
        "L = [1,2,3,4,5,6]\n",
        "print(L)\n",
        "L[1] = 7\n",
        "print(L)"
      ]
    },
    {
      "cell_type": "markdown",
      "metadata": {},
      "source": [
        "# リストやタプルとイテレーション\n",
        "リストやタプルはイテレーション可能"
      ]
    },
    {
      "cell_type": "code",
      "execution_count": null,
      "metadata": {},
      "outputs": [],
      "source": [
        "total = 0\n",
        "t = (1,2,4,8,16,32)\n",
        "for i in range(len(t)):\n",
        "    total += t[i]\n",
        "    print(t[i])\n",
        "print(total)"
      ]
    },
    {
      "cell_type": "code",
      "execution_count": null,
      "metadata": {},
      "outputs": [],
      "source": [
        "total = 0\n",
        "t = (1,2,4,8,16,32)\n",
        "for i in t:\n",
        "    total += i\n",
        "    print(i)\n",
        "print(total)\n",
        "\n",
        "total = 0\n",
        "L = [1,1,2,3,5,8]\n",
        "for i in L:\n",
        "    total += i\n",
        "    print(i)\n",
        "print(total)"
      ]
    },
    {
      "cell_type": "markdown",
      "metadata": {},
      "source": [
        "# リストへの要素の追加（append）\n",
        "* リストの末尾に要素を追加したいときは`<リスト名>.apppend(<要素>)`を使う\n",
        "\n",
        "```\n",
        "L = [1,2,3]\n",
        "L.append(5)\n",
        "```"
      ]
    },
    {
      "cell_type": "code",
      "execution_count": null,
      "metadata": {},
      "outputs": [],
      "source": [
        "L = [1,2,3]\n",
        "L.append(5)\n",
        "L"
      ]
    },
    {
      "cell_type": "markdown",
      "metadata": {},
      "source": [
        "# リストへの要素の追加（extend）\n",
        "* 2つのリストを結合したい時は`<リスト名>.extend(<リスト>)`を使う\n",
        "\n",
        "```\n",
        "L1 = [1,2,3]\n",
        "L2 = [4,5,6]\n",
        "L3 = L1 + L2\n",
        "```\n",
        "\n",
        "```\n",
        "L1.extend(L2)\n",
        "L2.extend([8,9,0])\n",
        "```\n"
      ]
    },
    {
      "cell_type": "code",
      "execution_count": null,
      "metadata": {},
      "outputs": [],
      "source": [
        "L1 = [1,2,3]\n",
        "L2 = [4,5,6]\n",
        "L3 = L1 + L2\n",
        "print(f\"{L1=}, {L2=}, {L3=}\")"
      ]
    },
    {
      "cell_type": "code",
      "execution_count": null,
      "metadata": {},
      "outputs": [],
      "source": [
        "L1.extend(L2)\n",
        "L2.extend([8,9,0])\n",
        "print(f\"{L1=}, {L2=}\")"
      ]
    },
    {
      "cell_type": "markdown",
      "metadata": {},
      "source": [
        "# リストの削除操作\n",
        "いくつかの操作がある\n",
        "\n",
        "* リストLから指定された添字の要素を消す `del(L[<添字>])`\n",
        "* リストLの最後の要素を返すと同時に消す `L.pop()`\n",
        "* リストLから指定の要素を消す `L.remove(<要素>)`\n",
        "    * 要素を検索し、削除する\n",
        "    * 要素が複数存在するときは最初に見つかったものを消す\n",
        "    * 要素が存在しないときはエラー\n",
        "\n",
        "# リストの操作\n",
        "他にもいろいろな操作があるのでリファレンスを参照すること\n",
        "https://docs.python.org/3/tutorial/datastructures.html"
      ]
    },
    {
      "cell_type": "code",
      "execution_count": null,
      "metadata": {},
      "outputs": [],
      "source": [
        "L = [1,1,2,3,5,8,13,21,34]\n",
        "L.remove(2)\n",
        "L"
      ]
    },
    {
      "cell_type": "code",
      "execution_count": null,
      "metadata": {},
      "outputs": [],
      "source": [
        "L.remove(1)\n",
        "L"
      ]
    },
    {
      "cell_type": "code",
      "execution_count": null,
      "metadata": {},
      "outputs": [],
      "source": [
        "del(L[1])\n",
        "L"
      ]
    },
    {
      "cell_type": "code",
      "execution_count": null,
      "metadata": {},
      "outputs": [],
      "source": [
        "L.pop()"
      ]
    },
    {
      "cell_type": "markdown",
      "metadata": {},
      "source": [
        "# エイリアスとクローン\n",
        "ここからの話は https://pythontutor.com を使った方がいいかも"
      ]
    },
    {
      "cell_type": "markdown",
      "metadata": {},
      "source": [
        "# リストの振る舞い\n",
        "* リストは可変\n",
        "* 不変型とは異なる振る舞いをする\n",
        "* メモリ上のオブジェクトである\n",
        "* リストはオブジェクトへの参照である\n",
        "* オブジェクトへは複数の参照をとれる\n",
        "* どの参照からもオブジェクトを変更できる\n",
        "* **副作用**を考慮する必要がある"
      ]
    },
    {
      "cell_type": "markdown",
      "metadata": {},
      "source": [
        "# エイリアス\n",
        "\n",
        "* エイリアスとは実体（オブジェクト）への参照\n",
        "* 複数の変数から一つの実体を参照する\n",
        "* 代入操作は参照（エイリアス）を渡す操作になる\n",
        "\n",
        "```\n",
        "colour = [\"red\",\"blue\",\"green\",\"purple\",\"orange\"]\n",
        "color  = colour\n",
        "color.append(\"pink\")\n",
        "print(color)\n",
        "print(colour)\n",
        "```"
      ]
    },
    {
      "cell_type": "code",
      "execution_count": null,
      "metadata": {},
      "outputs": [],
      "source": [
        "colour = [\"red\",\"blue\",\"green\",\"purple\",\"orange\"]\n",
        "color  = colour\n",
        "color.append(\"pink\")\n",
        "print(color)\n",
        "print(colour)"
      ]
    },
    {
      "cell_type": "markdown",
      "metadata": {},
      "source": [
        "# クローン\n",
        "* 参照ではなく値をコピーする方法をクローニング（cloning）と呼ぶ\n",
        "* リストの値を全てコピーするには `L[:]`を使う"
      ]
    },
    {
      "cell_type": "code",
      "execution_count": 60,
      "metadata": {},
      "outputs": [
        {
          "name": "stdout",
          "output_type": "stream",
          "text": [
            "color=['red', 'blue', 'green', 'purple', 'orange', 'pink']\n",
            "colour=['red', 'blue', 'green', 'purple', 'orange']\n"
          ]
        }
      ],
      "source": [
        "colour = [\"red\",\"blue\",\"green\",\"purple\",\"orange\"]\n",
        "color  = colour[:]\n",
        "color.append(\"pink\")\n",
        "print(color)\n",
        "print(colour)"
      ]
    },
    {
      "cell_type": "markdown",
      "metadata": {},
      "source": [
        "# 副作用\n",
        "* 副作用のあるメソッドとそうでないものがある\n",
        "* 副作用のあるメソッドはオブジェクトの要素を破壊することがある\n",
        "    * 例えば`L.sort()`は副作用がある\n",
        "    * 例えば`sorted(L)`には副作用がない\n",
        "\n",
        "```\n",
        "colour = [\"red\",\"blue\",\"green\",\"purple\",\"orange\"]\n",
        "sortedcolour= colour.sort()\n",
        "print(colour)\n",
        "print(sortedcolour)\n",
        "\n",
        "color = [\"red\",\"blue\",\"green\",\"purple\",\"orange\"]\n",
        "sortedcolor = sorted(color)\n",
        "print(color)\n",
        "print(sortedcolor)\n",
        "```"
      ]
    },
    {
      "cell_type": "code",
      "execution_count": null,
      "metadata": {},
      "outputs": [],
      "source": [
        "colour = [\"red\",\"blue\",\"green\",\"purple\",\"orange\"]\n",
        "sortedcolour= colour.sort()\n",
        "print(colour)\n",
        "print(sortedcolour)\n",
        "\n",
        "color = [\"red\",\"blue\",\"green\",\"purple\",\"orange\"]\n",
        "sortedcolor = sorted(color)\n",
        "print(color)\n",
        "print(sortedcolor)"
      ]
    },
    {
      "cell_type": "code",
      "execution_count": null,
      "metadata": {},
      "outputs": [],
      "source": [
        "def remove_duplicates(L1, L2):\n",
        "    for e in L1:\n",
        "       if e in L2:\n",
        "            L1.remove(e)\n",
        "\n",
        "L1 = [1, 2, 3, 4]\n",
        "L2 = [1, 2, 5, 6]\n",
        "remove_duplicates(L1, L2)\n",
        "print(L1)"
      ]
    },
    {
      "cell_type": "markdown",
      "metadata": {},
      "source": [
        "# 解説\n",
        "なぜ`L1`は`[3,4]`でなく`[2,3,4]`になってしまうのか\n",
        "\n",
        "* Pythonはループを内部のカウンタを使って管理している\n",
        "* 副作用のある変更で、リストの長さが変わったとしても、Pythonはカウンタを更新しない\n",
        "* 1を消した時に2が`L1[0]`となるが、既に`L1[0]`はループしたものをみなされる"
      ]
    },
    {
      "cell_type": "code",
      "execution_count": null,
      "metadata": {},
      "outputs": [],
      "source": [
        "def remove_duplicates(L1, L2):\n",
        "    L1_copy = L1[:]\n",
        "    for e in L1_copy:\n",
        "       if e in L2:\n",
        "            L1.remove(e)\n",
        "\n",
        "L1 = [1, 2, 3, 4]\n",
        "L2 = [1, 2, 5, 6]\n",
        "remove_duplicates(L1, L2)\n",
        "print(L1)"
      ]
    }
  ],
  "metadata": {
    "colab": {
      "provenance": []
    },
    "kernelspec": {
      "display_name": "Python 3.10.8 64-bit",
      "language": "python",
      "name": "python3"
    },
    "language_info": {
      "codemirror_mode": {
        "name": "ipython",
        "version": 3
      },
      "file_extension": ".py",
      "mimetype": "text/x-python",
      "name": "python",
      "nbconvert_exporter": "python",
      "pygments_lexer": "ipython3",
      "version": "3.10.8"
    },
    "vscode": {
      "interpreter": {
        "hash": "b0fa6594d8f4cbf19f97940f81e996739fb7646882a419484c72d19e05852a7e"
      }
    }
  },
  "nbformat": 4,
  "nbformat_minor": 0
}
