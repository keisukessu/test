{
  "cells": [
    {
      "cell_type": "markdown",
      "metadata": {
        "id": "f0TPott3OMUJ"
      },
      "source": [
        "# 前回の内容\n",
        "\n",
        "* テストとデバッグ\n",
        "* 例外とアサーション"
      ]
    },
    {
      "cell_type": "markdown",
      "metadata": {
        "id": "6sSk8uMyOIcL"
      },
      "source": [
        "# 今回の内容\n",
        "\n",
        "* オブジェクト指向プログラミング"
      ]
    },
    {
      "cell_type": "markdown",
      "metadata": {
        "id": "rpCDh76Z849R"
      },
      "source": [
        "# 例外とアサーション\n",
        "* プログラムが予期しない状態に陥ったらどうなるか\n",
        "  * 例外が起きる\n",
        "\n",
        "```\n",
        "test = [1,2,3]\n",
        "test[3]\n",
        "```\n",
        "\n",
        "* いろんな例外\n",
        "  * SyntaxError: プログラムを正常にパースできなかったとき\n",
        "  * NameError: 変数が見つからなかったとき\n",
        "  * TypeError: 正しい型でなかったとき\n",
        "  * ValueError: 値が異常だったとき\n",
        "  * IOError: 入出力が異常だったとき（ファイルが見つからないなど）\n",
        "  * AttributeError: 属性が見つからなかったとき"
      ]
    },
    {
      "cell_type": "code",
      "execution_count": null,
      "metadata": {
        "id": "ga1HqTu9849R"
      },
      "outputs": [],
      "source": [
        "test = [1,2,3]\n",
        "test[3]"
      ]
    },
    {
      "cell_type": "markdown",
      "metadata": {
        "id": "nwu7dRdZ849S"
      },
      "source": [
        "# 例外の処理\n",
        "\n",
        "* Pythonでは例外を扱うためのハンドラが備わっている\n",
        "  * try-exceptブロック\n",
        "\n",
        "```\n",
        "try:\n",
        "  a = int(input(\"数を入力せよ\"))\n",
        "  b = int(input(\"数を入力せよ\"))\n",
        "  print(a/b)\n",
        "except:\n",
        "  print(\"何かがおかしい！\")\n",
        "```\n",
        "\n",
        "* tryブロック内で例外が起こるとexceptブロック内が呼び出される（処理される）"
      ]
    },
    {
      "cell_type": "code",
      "execution_count": null,
      "metadata": {
        "id": "gLwv-FrP849S"
      },
      "outputs": [],
      "source": [
        "try:\n",
        "  a = int(input(\"数を入力せよ\"))\n",
        "  b = int(input(\"数を入力せよ\"))\n",
        "  print(a/b)\n",
        "except:\n",
        "  print(\"何かがおかしい！\")"
      ]
    },
    {
      "cell_type": "code",
      "execution_count": null,
      "metadata": {
        "id": "FFRgdDR1ROan"
      },
      "outputs": [],
      "source": [
        "a = int(input(\"数を入力せよ\"))\n",
        "b = int(input(\"数を入力せよ\"))\n",
        "print(a/b)"
      ]
    },
    {
      "cell_type": "markdown",
      "metadata": {
        "id": "jd-Y04A3849S"
      },
      "source": [
        "# 特定の例外の処理\n",
        "\n",
        "```\n",
        "try:\n",
        "  a = int(input(\"数を入力せよ\"))\n",
        "  b = int(input(\"数を入力せよ\"))\n",
        "  print(a/b)\n",
        "except ValueError:\n",
        "  print(\"値がおかしいよ！\")\n",
        "except ZeroDivisionError:\n",
        "  print(\"ゼロで割るなんておかしいよ！\")\n",
        "except:\n",
        "  print(\"何かがおかしい！\")\n",
        "```"
      ]
    },
    {
      "cell_type": "code",
      "execution_count": null,
      "metadata": {
        "id": "IGmGHw7C849T"
      },
      "outputs": [],
      "source": [
        "try:\n",
        "  a = int(input(\"数を入力せよ\"))\n",
        "  b = int(input(\"数を入力せよ\"))\n",
        "  print(a/b)\n",
        "except ValueError:\n",
        "  print(\"値がおかしいよ！\")\n",
        "except ZeroDivisionError:\n",
        "  print(\"ゼロで割るなんておかしいよ！\")\n",
        "except:\n",
        "  print(\"何かがおかしい！\")"
      ]
    },
    {
      "cell_type": "code",
      "execution_count": null,
      "metadata": {
        "id": "qYeyw8xC849T"
      },
      "outputs": [],
      "source": [
        "try:\n",
        "  a = int(input(\"数を入力せよ\"))\n",
        "  b = int(input(\"数を入力せよ\"))\n",
        "  print(a/b)\n",
        "except ValueError:\n",
        "  print(\"値がおかしいよ！\")\n",
        "except ZeroDivisionError:\n",
        "  print(\"ゼロで割るなんておかしいよ！\")\n",
        "except:\n",
        "  print(\"何かがおかしい！\")\n",
        "else:\n",
        "  print(\"おかしくなかったよ\")\n",
        "finally:\n",
        "  print(\"いずれにしてもこれはでるよ\")\n",
        "  #ファイルを閉じたり後始末するのに使う"
      ]
    },
    {
      "cell_type": "markdown",
      "metadata": {
        "id": "n1MvGrxD849U"
      },
      "source": [
        "# 例外はどのように処理をすべきか\n",
        "\n",
        "1. なにもしない\n",
        "  * デフォルトの値を代入して処理を続けるなど...\n",
        "  * ユーザがフィードバックを得られない難点がある\n",
        "2. エラーを返す\n",
        "  * エラーがあったことがフィードバックできる\n",
        "  * どんな値を返すべきかは臨機応変に\n",
        "  * 割と考えなくてはならない\n",
        "3. 実行を止めてエラーを出す\n",
        "  * 致命的なエラーの場合は実行を止めたほうがよい\n",
        "  * どんなエラーだったのかフィードバックする\n",
        "  * `raise Exception(\"説明\")`"
      ]
    },
    {
      "cell_type": "code",
      "execution_count": null,
      "metadata": {
        "id": "LIjtMnRP849U"
      },
      "outputs": [],
      "source": [
        "raise Exception(\"こんな説明です\")"
      ]
    },
    {
      "cell_type": "code",
      "execution_count": null,
      "metadata": {
        "id": "QrujcUll849U"
      },
      "outputs": [],
      "source": [
        "# 例外の例\n",
        "def getRatios(vect1, vect2):\n",
        "    \"\"\"vect1とvect2を同じ長さのリストとする。\n",
        "    vet1[i]/vect2[i]を意味する値からなるリストを返す。\"\"\"\n",
        "    ratios = []\n",
        "    for index in range(len(vect1)):\n",
        "        try:\n",
        "            ratios.append(vect1[index] / float(vect2[index]))\n",
        "        except ZeroDivisionError:\n",
        "            ratios.append(float('nan')) # nan = Not a Number\n",
        "        except:\n",
        "            raise ValueError('getRatiosは不適切な引数で呼び出されました')\n",
        "    return ratios\n"
      ]
    },
    {
      "cell_type": "markdown",
      "metadata": {
        "id": "pzeRsFfq849V"
      },
      "source": [
        "# 例外の例\n",
        "\n",
        "* 氏名と複数の科目の点数が記録されているリストがある\n",
        "* 上のリストについて平均点を加えた新しいリストを作ることにする\n",
        "\n",
        "```\n",
        "test_scores = [[[\"松村\",\"耕平\"],[80.0,70.0,84.0]], [[\"河野\",\"隼一郎\"],[90.0,100.0,73.0]]\n",
        "```"
      ]
    },
    {
      "cell_type": "code",
      "execution_count": null,
      "metadata": {
        "id": "N9rXe6xD849V"
      },
      "outputs": [],
      "source": [
        "test_scores = [[[\"松村\",\"耕平\"],[80.0,70.0,84.0]], [[\"河野\",\"隼一郎\"],[90.0,100.0,73.0]]]\n",
        "\n",
        "def get_stats(score_list):\n",
        "  new_list = []\n",
        "  for e in score_list:\n",
        "    new_list.append([e[0], e[1], avg(e[1])])\n",
        "  return new_list\n",
        "def avg(scores):\n",
        "    return sum(scores)/len(scores)\n",
        "\n",
        "get_stats(test_scores)"
      ]
    },
    {
      "cell_type": "code",
      "execution_count": null,
      "metadata": {
        "id": "wh9cNKlc849W"
      },
      "outputs": [],
      "source": [
        "test_scores = [ [[\"松村\",\"耕平\"],[80.0,70.0,84.0]], \n",
        "                [[\"河野\",\"隼一郎\"],[90.0,100.0,73.0]],\n",
        "                [[\"バグ\",\"太朗\"],[]]]\n",
        "\n",
        "get_stats(test_scores)"
      ]
    },
    {
      "cell_type": "markdown",
      "metadata": {
        "id": "W3RnVqgm849W"
      },
      "source": [
        "# 例外方略１：エラーがあることを表示する\n",
        "\n",
        "```\n",
        "def avg(scores):\n",
        "    try:\n",
        "        return sum(scores)/len(scores)\n",
        "    except ZeroDivisionEroor:\n",
        "        print(\"警告：点数が記録されていません\")\n",
        "```\n"
      ]
    },
    {
      "cell_type": "code",
      "execution_count": null,
      "metadata": {
        "id": "DDP5tKaL849X"
      },
      "outputs": [],
      "source": [
        "def avg(scores):\n",
        "    try:\n",
        "        return sum(scores)/len(scores)\n",
        "    except ZeroDivisionError:\n",
        "        print(\"警告：点数が記録されていません\")"
      ]
    },
    {
      "cell_type": "markdown",
      "metadata": {
        "id": "lwwyHfB0849X"
      },
      "source": [
        "# 例外方略2：点数が登録されていない場合0点として扱う\n",
        "\n",
        "```\n",
        "def avg(scores):\n",
        "    try:\n",
        "        return sum(scores)/len(scores)\n",
        "    except ZeroDivisionError:\n",
        "        print(\"警告：点数が記録されていません\")\n",
        "        return 0.0\n",
        "```\n"
      ]
    },
    {
      "cell_type": "code",
      "execution_count": null,
      "metadata": {
        "id": "FO_PIIIK849Y"
      },
      "outputs": [],
      "source": [
        "def avg(scores):\n",
        "    try:\n",
        "        return sum(scores)/len(scores)\n",
        "    except ZeroDivisionError:\n",
        "        print(\"警告：点数が記録されていません\")\n",
        "        return 0.0"
      ]
    },
    {
      "cell_type": "markdown",
      "metadata": {
        "id": "jBBBbZXv849Y"
      },
      "source": [
        "# アサーション\n",
        "\n",
        "* 仮定したものが、仮定通りであるかを確認したい\n",
        "* 計算結果が期待したどおりかを確認したい\n",
        "* **assert**文を使うと、条件外の場合はAssertionError例外を起こすことができる\n",
        "* 防御的プログラミング\n",
        "\n",
        "```\n",
        "def avg(scores):\n",
        "    assert len(scores) !=0, \"点数が記録されていません\"\n",
        "    return sum(scores)/len(scores)\n",
        "```\n",
        "\n",
        "* 上の例だと、scoresリストが空(=len(scores)が0)だったらAssertionError例外を起こす\n",
        "* そうでなければスルー"
      ]
    },
    {
      "cell_type": "code",
      "execution_count": null,
      "metadata": {
        "id": "I8vxqFd8849Y"
      },
      "outputs": [],
      "source": [
        "def avg(scores):\n",
        "    assert len(scores) !=0, \"点数が記録されていません\"\n",
        "    return sum(scores)/len(scores)"
      ]
    },
    {
      "cell_type": "markdown",
      "metadata": {
        "id": "uOvyOrxh849Y"
      },
      "source": [
        "# 防御的プログラミングとしてのアサーション\n",
        "* アサーションは予期しない状況の場合にプログラマに対応を投げない\n",
        "* 期待される条件でなかった場合は実行の中断が保証される\n",
        "* 入力のチェックによく使われる\n",
        "* 出力のチェックにもよく使われる\n",
        "* バグの場所を特定するのにも便利である（デバッグツールとして）"
      ]
    },
    {
      "cell_type": "markdown",
      "metadata": {
        "id": "g_7qNssCvffE"
      },
      "source": [
        "# ぜんぶオブジェクト\n",
        "\n",
        "* Pythonはオブジェクト指向言語\n",
        " * サポートするデータはぜんぶオブジェクト\n",
        " * `1234` `3.1415` `\"松村\"` `[1,1,2,3,5,8,13]` `{\"OIC\":\"大阪いばらきキャンパス\", \"BKC\":\"びわこくさつキャンパス\", \"KIC\":\"衣笠キャンパス\"}` \n",
        "* オブジェクトってなんだ？\n",
        " * 型(type)をもっている\n",
        " * 内部にデータを保持している\n",
        " * オブジェクトに作用するための手続きを持っている\n",
        "* オブジェクトはある型のインスタンスである\n",
        " * `12345` はint型のインスタンス\n",
        " * `\"松村\"`はstr型のインスタンス\n"
      ]
    },
    {
      "cell_type": "code",
      "execution_count": null,
      "metadata": {
        "id": "HT2gQM584J19"
      },
      "outputs": [],
      "source": [
        "type(12345)"
      ]
    },
    {
      "cell_type": "code",
      "execution_count": null,
      "metadata": {
        "id": "7Dsr2oLH4J19"
      },
      "outputs": [],
      "source": [
        "type(\"松村\")"
      ]
    },
    {
      "cell_type": "code",
      "execution_count": null,
      "metadata": {
        "id": "8j1V6MRQ4J19"
      },
      "outputs": [],
      "source": [
        "type(int)"
      ]
    },
    {
      "cell_type": "code",
      "execution_count": null,
      "metadata": {
        "id": "RKSJBaTz4J19"
      },
      "outputs": [],
      "source": [
        "def hoge():\n",
        "    pass\n",
        "type(hoge)"
      ]
    },
    {
      "cell_type": "markdown",
      "metadata": {
        "id": "ZLdwm4Qy4J1-"
      },
      "source": [
        "# オブジェクト指向プログラミング\n",
        "\n",
        "* Pythonでは全てがオブジェクト\n",
        "* Pythonでは\n",
        " * ある型のオブジェクトを生成できる\n",
        " * オブジェクトを操作できる\n",
        " * オブジェクトを消去できる\n",
        "  * delかガベージコレクション（参照を切る）\n"
      ]
    },
    {
      "cell_type": "code",
      "execution_count": null,
      "metadata": {
        "id": "RiutY_lV4J1-"
      },
      "outputs": [],
      "source": [
        "a = int()"
      ]
    },
    {
      "cell_type": "code",
      "execution_count": null,
      "metadata": {
        "id": "pj3e3GdL4J1-"
      },
      "outputs": [],
      "source": [
        "a = float()\n",
        "a"
      ]
    },
    {
      "cell_type": "code",
      "execution_count": null,
      "metadata": {
        "id": "7tRJ9xsy4J1_"
      },
      "outputs": [],
      "source": [
        "a = float()\n",
        "a += 3.5\n",
        "a"
      ]
    },
    {
      "cell_type": "code",
      "execution_count": null,
      "metadata": {
        "id": "DkhUu0lC4J2A"
      },
      "outputs": [],
      "source": [
        "del(a)\n",
        "a"
      ]
    },
    {
      "cell_type": "markdown",
      "metadata": {
        "id": "hCLbVr_64J2A"
      },
      "source": [
        "# オブジェクトとはなにか\n",
        "\n",
        "* オブジェクトは抽象化されたデータである（抽象データ型）\n",
        "* 抽象データ型\n",
        "    * オブジェクトとそれに対する処理操作をひとまとまりにしたもの\n",
        "\n",
        "  1. データ属性からなる内部表現を保持する\n",
        "  2. オブジェクトを操作するためのインタフェースを持つ\n",
        "    * メソッド\n",
        "    * 振る舞いを定義するが、実装は隠蔽される"
      ]
    },
    {
      "cell_type": "code",
      "execution_count": null,
      "metadata": {
        "id": "nQRUvK2h4J2A"
      },
      "outputs": [],
      "source": [
        "class myList():\n",
        "    def __init__(self):\n",
        "        self.next = None\n",
        "        self.data = None\n",
        "    def __init__(self, data):\n",
        "        self.data = data\n",
        "    def setNext(self, next):\n",
        "        self.next = next\n",
        "    def getNext(self):\n",
        "        return self.next\n",
        "    def __str__(self):\n",
        "        return str(self.data)\n",
        "\n",
        "l1 = myList(\"aaaaa\")\n",
        "l2 = myList(\"bbbbb\")\n",
        "l3 = myList(\"ccccc\")\n",
        "\n",
        "l1.setNext(l2)\n",
        "l2.setNext(l3)\n",
        "\n",
        "print(l1)\n",
        "print(l1.getNext())\n",
        "print(l1.getNext().getNext())\n"
      ]
    },
    {
      "cell_type": "markdown",
      "metadata": {
        "id": "AU0lHERm4J2B"
      },
      "source": [
        "# リストの例\n",
        "`l = [1,2,3,4,5,6]`\n",
        "\n",
        "* リストは内部的としては、あるブロックの連結リストとして表現される（リストの内部表現）\n",
        "* リストの操作\n",
        "    * `l[i]`, `l[i:j]`, `+`\n",
        "    * `len(l)`, `min(l)`, `max(l)`, `del(l[i])`\n",
        "    * `l.append()`, `l.pop()`, `l.remove()`, `l.reverse()`, `l.sort()`\n",
        "\n",
        "* 内的表現は隠蔽されるべき\n",
        "* プログラマが内的表現を直接操作しようとした時には正しい動作をしないかも？（リストのポインタを直接書き換えるなど？）"
      ]
    },
    {
      "cell_type": "code",
      "execution_count": null,
      "metadata": {
        "id": "chiQtDYQ4J2B"
      },
      "outputs": [],
      "source": [
        "l = [1,2,3,4,5,6]"
      ]
    },
    {
      "cell_type": "markdown",
      "metadata": {
        "id": "cvyhA65H4J2B"
      },
      "source": [
        "# オブジェクト指向プログラミングの利点\n",
        "\n",
        "* データをパッケージ化できる\n",
        "    * データをデータを操作する手続きと紐づけてパッケージ化できる\n",
        "* 分割統治法\n",
        "    * それぞれのクラスごとにその振る舞いを実装、およびテストできる\n",
        "    * モジュール化により複雑性を低減できる\n",
        "* 再利用性\n",
        "    * コードの再利用性が向上する\n",
        "    * Pythonモジュールの多くは新たなクラスを定義している\n",
        "    * それぞれのクラスはそれぞれの環境を持つ\n",
        "    * 継承によって、あるクラスを再定義したサブクラスをつくったり、拡張することができる\n"
      ]
    },
    {
      "cell_type": "markdown",
      "metadata": {
        "id": "PWdbnEVV4J2C"
      },
      "source": [
        "# どうやってクラスを作ればいいのか、そしてそれを使えばいいのか\n",
        "\n",
        "* クラスの作り方\n",
        "    * クラス名を定義する\n",
        "    * クラスの属性を定義する（変数、メソッド）\n",
        "\n",
        "```\n",
        "class Point(object):\n",
        "    pass\n",
        "```\n",
        "* `class`がクラスを定義するためのキーワード\n",
        "* `Point`がクラス名の定義\n",
        "* `object`はこのクラスが継承する型（クラス）、省略すると`object`を継承する\n",
        "    * 継承については次の講義で\n",
        "    * `Point`は`object`のサブクラス（子クラス）\n",
        "    * `object`は`Point`のスーパークラス（親クラス）\n",
        "\n",
        "* クラスの使い方\n",
        "    * 新しいオブジェクトのインスタンスを作る\n",
        "    * インスタンスに対して操作を行う\n",
        "\n",
        "```\n",
        "p1 = Point(3,3)\n",
        "print(p1)\n",
        "p1 += (3,3)\n",
        "print(p1)\n",
        "```"
      ]
    },
    {
      "cell_type": "markdown",
      "metadata": {
        "id": "7BBAqu9U4J2C"
      },
      "source": [
        "# 属性とは\n",
        "\n",
        "* クラスに紐づいたデータや手続き\n",
        "* データ属性\n",
        "    * クラスが保持すべきデータ（オブジェクト）\n",
        "    * 例：x,y座標軸上の点であれば2つの整数（実数）値\n",
        "* メソッド属性\n",
        "    * オブジェクトを操作するための方法\n",
        "    * クラスに紐づいたオブジェクトを操作するための関数＝メソッド\n",
        "    * 例：x,y座標軸上の他の点との距離を求める"
      ]
    },
    {
      "cell_type": "markdown",
      "metadata": {
        "id": "mvOjwdmB4J2C"
      },
      "source": [
        "# クラスの作り方：コンストラクタ\n",
        "\n",
        "* `__init__(self):`は特殊なメソッド定義\n",
        "    * コンストラクタと呼ぶ\n",
        "    * クラス定義からインスタンスが作られるときに必ず呼び出される特殊なメソッド\n",
        "    * データ属性を初期化するときなどに用いる\n",
        "\n",
        "```\n",
        "class Point():\n",
        "    def __init__(self, x, y):\n",
        "        self.x = x\n",
        "        self.y = y\n",
        "```\n",
        "* `self`はインスタンス変数と呼ばれるインスタンス内部で保持する変数にアクセスするための名前\n",
        "    * `self`がよく使われるが実はなんでもいい（Javaだったら`this`）。\n",
        "* `self.x`や`self.y`でインスタンス変数を定義\n",
        "    * 内部的な属性へのアクセスに`.`を用いる"
      ]
    },
    {
      "cell_type": "markdown",
      "metadata": {
        "id": "JA_0TX-D4J2D"
      },
      "source": [
        "# インスタンスの生成\n",
        "\n",
        "* 生成したい型を指定して変数代入をすると、その型のインスタンスを生成できる\n",
        "\n",
        "```\n",
        "p1 = Point(0,0)\n",
        "p2 = Point(3,4)\n",
        "print(p1.x, p1.y)\n",
        "print(p2.x, P2.y)\n",
        "```\n",
        "\n",
        "* `p1 = Point(0,0)` \n",
        "    * `def __init__(self, x, y):`でxに0, yに0が入る\n",
        "    * `self.x = x`, `self.y = y`でインスタンス変数 `self.x`や`self.y`に値を代入\n",
        "* `print(p2.x, P2.y)`\n",
        "    * インスタンス変数`self.x`にアクセスできる\n",
        "    * このときに`self`の指定は不要"
      ]
    },
    {
      "cell_type": "markdown",
      "metadata": {
        "id": "1Jv1rKcs4J2D"
      },
      "source": [
        "# メソッドとはなにか\n",
        "\n",
        "* 手続き的属性、メソッド属性\n",
        "    * このクラスのためだけに使われる関数\n",
        "* Pythonではメソッドは必ず第一引数にインスタンス変数を渡す\n",
        "    * だからメソッドを定義するときには、それを受け取るための記述が必要\n",
        "    * 普通は`self`を使う\n",
        "* `.`オペレータ\n",
        "    * 属性へのアクセスに用いる\n",
        "    * データ属性もメソッド属性のどちらにも使う\n",
        "    * 例: `self.x`, `self.distance()`"
      ]
    },
    {
      "cell_type": "markdown",
      "metadata": {
        "id": "4WX3uSH54J2D"
      },
      "source": [
        "# Pointクラスを作ってみる\n",
        "\n",
        "* このクラスはx,y平面上の点を表す\n",
        "* 座標をデータとして保持する\n",
        "* 同平面上の他の点との距離を計算できる\n",
        "\n",
        "```\n",
        "class Point():\n",
        "    def __init__(self, x, y):\n",
        "        self.x = x\n",
        "        self.y = y\n",
        "    def distance(self, other):\n",
        "        x_diff = (self.x - other.x)**2\n",
        "        y_diff = (self.y - other.y)**2\n",
        "        return (x_diff + y_diff)**0.5\n",
        "```"
      ]
    },
    {
      "cell_type": "code",
      "execution_count": null,
      "metadata": {
        "id": "dkVxqjSV4J2E"
      },
      "outputs": [],
      "source": [
        "class Point():\n",
        "    def __init__(self, x, y):\n",
        "        self.x = x\n",
        "        self.y = y\n",
        "    def distance(self, other):\n",
        "        x_diff = (self.x - other.x)**2\n",
        "        y_diff = (self.y - other.y)**2\n",
        "        return (x_diff + y_diff)**0.5\n",
        "\n",
        "p1 = Point(0,0)\n",
        "p2 = Point(3,4)\n",
        "print(p1.distance(p2))"
      ]
    },
    {
      "cell_type": "code",
      "execution_count": null,
      "metadata": {
        "id": "HMUyuxsD4J2E"
      },
      "outputs": [],
      "source": [
        "p1 = Point(0,0)\n",
        "print(p1)"
      ]
    },
    {
      "cell_type": "markdown",
      "metadata": {
        "id": "txCliHpa4J2E"
      },
      "source": [
        "# クラスのprint表現を作ってみる\n",
        "\n",
        "* デフォルトのprint表現は、ポインタがでてきたりはするが役に立たない\n",
        "* `__str__`メソッドをクラスに定義すると表現を変更できる\n",
        "* Pythonは`__str__`メソッドをオブジェクトが`print`で出力されるときに呼び出す\n",
        "    * `__str__`メソッドを定義すればprintの時の表現を変えられる\n"
      ]
    },
    {
      "cell_type": "code",
      "execution_count": null,
      "metadata": {
        "id": "8AgAvD4A4J2E"
      },
      "outputs": [],
      "source": [
        "class Point():\n",
        "    def __init__(self, x, y):\n",
        "        self.x = x\n",
        "        self.y = y\n",
        "    def distance(self, other):\n",
        "        x_diff = (self.x - other.x)**2\n",
        "        y_diff = (self.y - other.y)**2\n",
        "        return (x_diff + y_diff)**0.5\n",
        "    def __str__(self):\n",
        "        return \"<\" + str(self.x)+ \", \" + str(self.y) + \">\""
      ]
    },
    {
      "cell_type": "code",
      "execution_count": null,
      "metadata": {
        "id": "L9wioGTl4J2F"
      },
      "outputs": [],
      "source": [
        "p1 = Point(3,7)\n",
        "print(p1)"
      ]
    },
    {
      "cell_type": "code",
      "execution_count": null,
      "metadata": {
        "id": "2WZqtJTz4J2F"
      },
      "outputs": [],
      "source": [
        "p1 = Point(3,7)\n",
        "print(p1)\n",
        "print(type(p1))\n",
        "\n",
        "print(isinstance(p1, Point))\n",
        "print(type(Point))"
      ]
    },
    {
      "cell_type": "markdown",
      "metadata": {
        "id": "b_BjJmM04J2G"
      },
      "source": [
        "# 特殊なメソッドにはどんなものがあるか\n",
        "\n",
        "[The Python Language Reference >> 3. Data](https://docs.python.org/3/reference/datamodel.html#basic-customization)\n",
        "\n",
        "* `+ ,-, ==, <, >, len()`, などさまざまな操作を可能にする特殊なメソッドがいくつもある\n",
        "* これらをクラスで定義することで対応するオペレータによる操作が可能になる\n",
        "\n",
        "* `self + other`  -> `__add__(self, other)`\n",
        "* `self - other`  -> `__sub__(self, other)`\n",
        "* `self == other` -> `__eq__(self, other)`\n",
        "* `self < other`  -> `__lt__(self, other)`\n",
        "* `len(self)`     -> `__len__(self)`\n",
        "* `print(self)`   -> `__str__(self, other)`\n",
        "\n",
        "\n"
      ]
    },
    {
      "cell_type": "code",
      "execution_count": null,
      "metadata": {
        "id": "TXp6QB_W4J2G"
      },
      "outputs": [],
      "source": [
        "class IntSet(object):\n",
        "    \"\"\"\n",
        "    IntSetは整数の集合\n",
        "    集合はint肩の要素からなるリストself.valsによってあらわされる。\n",
        "    int型の要素はそれぞれ、リストself.valsにちょうど一度だけ現れる\n",
        "    \"\"\"\n",
        "\n",
        "\n",
        "    def __init__(self):\n",
        "        \"\"\"\n",
        "        整数の空集合を生成する\n",
        "        \"\"\"\n",
        "        self.vals = []\n",
        "    \n",
        "    \n",
        "    def insert(self, e):\n",
        "        \"\"\"\n",
        "        eをint型とし、eをselfに挿入する\n",
        "        \"\"\"\n",
        "        if not e in self.vals:\n",
        "            self.vals.append(e)\n",
        "    \n",
        "    \n",
        "    def member(self, e):\n",
        "        \"\"\"\n",
        "        int型eがselfにあればTrueを、なければFalseを返す\n",
        "        \"\"\"\n",
        "        return e in self.vals\n",
        "    \n",
        "    \n",
        "    def remove(self, e):\n",
        "        \"\"\"\n",
        "        eをint型とし、eをselfから削除する\n",
        "        \"\"\"\n",
        "        try:\n",
        "            self.vals.remove(e)\n",
        "        except:\n",
        "            raise ValueError(str(e) + ' not found')\n",
        "    \n",
        "    \n",
        "    def getMembers(self):\n",
        "        \"\"\"\n",
        "        selfが含む要素を持つリストを返す\n",
        "        要素の順序に関しては何も約束できない\n",
        "        \"\"\"\n",
        "        return self.vals[:]\n",
        "    \n",
        "    \n",
        "    def __str__(self):\n",
        "        \"\"\"\n",
        "        selfの文字列表現を返す\n",
        "        \"\"\"\n",
        "        self.vals.sort()\n",
        "        result = ''\n",
        "        for e in self.vals:\n",
        "            result = result + str(e) + ','\n",
        "        return '{' + result[:-1] + '}'  # -1としたのは最後のカンマを除くため"
      ]
    },
    {
      "cell_type": "code",
      "execution_count": null,
      "metadata": {
        "id": "3dGhVyEg4J2G"
      },
      "outputs": [],
      "source": [
        "import datetime\n",
        "\n",
        "class Person(object):\n",
        "\n",
        "    def __init__(self, name):\n",
        "        \"\"\"\n",
        "        「人間」を生成する\n",
        "        \"\"\"\n",
        "        self.name = name\n",
        "        try:\n",
        "            lastBlank = name.index(' ')\n",
        "            self.lastName = name[lastBlask + 1:]\n",
        "        except:\n",
        "            self.lastName = name\n",
        "        self.birthday = None\n",
        "\n",
        "    def getName(self):\n",
        "        \"\"\"\n",
        "        selfの名前（フルネーム）を返す\n",
        "        \"\"\"\n",
        "        return self.name\n",
        "\n",
        "    def getLastName(self):\n",
        "        \"\"\"\n",
        "        selfの姓を返す\n",
        "        \"\"\"\n",
        "        return self.lastName\n",
        "\n",
        "    def setBirthday(self, birthdate):\n",
        "        \"\"\"\n",
        "        birthdateをdatetime.date型とする\n",
        "        selfの生年月日をbirtdateと設定する\n",
        "        \"\"\"\n",
        "        self.birthday = birthdate\n",
        "\n",
        "    def getAge(self):\n",
        "        \"\"\"\n",
        "        selfの現在の年齢を日単位で返す\n",
        "        \"\"\"\n",
        "        if self.birthday == None:\n",
        "            raise ValueError\n",
        "        return (datetime.date.today() - self.birthday).days\n",
        "\n",
        "    def __lt__(self, other):\n",
        "        \"\"\"\n",
        "        selfの名前がotherの名前と比べて\n",
        "        アルファベット順で前ならばTrueを、そうでなければFalseを返す\n",
        "        比較は、姓について行われるが、\n",
        "        姓が同じであれば名前（フルネーム）が比較される\n",
        "        \"\"\"\n",
        "        if self.lastName == other.lastName:\n",
        "            return self.name < other.name\n",
        "        return self.lastName < other.lastName\n",
        "\n",
        "    def __str__(self):\n",
        "        \"\"\"\n",
        "        selfの名前（フルネーム）を返す\n",
        "        \"\"\"\n",
        "        return self.name"
      ]
    }
  ],
  "metadata": {
    "colab": {
      "provenance": []
    },
    "kernelspec": {
      "display_name": "Python 3.10.8 64-bit",
      "language": "python",
      "name": "python3"
    },
    "language_info": {
      "codemirror_mode": {
        "name": "ipython",
        "version": 3
      },
      "file_extension": ".py",
      "mimetype": "text/x-python",
      "name": "python",
      "nbconvert_exporter": "python",
      "pygments_lexer": "ipython3",
      "version": "3.10.8"
    },
    "vscode": {
      "interpreter": {
        "hash": "b0fa6594d8f4cbf19f97940f81e996739fb7646882a419484c72d19e05852a7e"
      }
    }
  },
  "nbformat": 4,
  "nbformat_minor": 0
}