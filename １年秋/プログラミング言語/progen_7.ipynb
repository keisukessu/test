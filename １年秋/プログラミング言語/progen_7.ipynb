{
  "cells": [
    {
      "cell_type": "markdown",
      "metadata": {
        "id": "f0TPott3OMUJ"
      },
      "source": [
        "# 前回の内容\n",
        "\n",
        "* 辞書"
      ]
    },
    {
      "cell_type": "markdown",
      "metadata": {
        "id": "6sSk8uMyOIcL"
      },
      "source": [
        "# 今回の内容\n",
        "\n",
        "* テストとデバッグ"
      ]
    },
    {
      "cell_type": "markdown",
      "metadata": {
        "id": "-m4sxuvSOJzS"
      },
      "source": [
        "# 雨漏りのアナロジー\n",
        "\n",
        "屋根が雨漏りをしていて、ポタポタと雨水が頭上に落ちてくるとしよう...\n",
        "\n",
        "* 頭を触って、濡れているかどうかを確認する\n",
        "  * テスト（濡れているのか？そして、この濡れは許容範囲なのか？？）\n",
        "* 傘をさす\n",
        "  * 防御的プログラミング/セキュアプログラミング（雨水が落ちてきてきたときに対処ができてればいいじゃん）\n",
        "* 雨漏りをなおす\n",
        "  * バグを除去する/デバッグ（そもそも雨水落ちてくるのが悪いじゃん）"
      ]
    },
    {
      "cell_type": "markdown",
      "metadata": {
        "id": "GVRyQre2OJw1"
      },
      "source": [
        "# テスト、防御的プログラミング、デバッグ\n",
        "\n",
        "* 防御的プログラミング\n",
        "  * 関数の仕様を記述する\n",
        "  * プログラムをモジュール化する\n",
        "  * 入出力の条件をチェックする (assertion)\n",
        "\n",
        "* テスト\n",
        "  * 入出力を関数仕様と比較する\n",
        "  * 動かない場合を見つける\n",
        "  * どうやったら自分のプログラムを壊せるか、動作を変にできるか、を考える\n",
        "\n",
        "* デバッグ\n",
        "  * エラーをもたらしている原因となるイベントを調べる\n",
        "  * なぜ動かないのかを考える\n",
        "  * どうやったら治せるかを考える\n"
      ]
    },
    {
      "cell_type": "markdown",
      "metadata": {
        "id": "CCrCAzQiRIRd"
      },
      "source": [
        "# テスト\n",
        "\n",
        "まずはテストから"
      ]
    },
    {
      "cell_type": "markdown",
      "metadata": {
        "id": "M96r9qKYSi3N"
      },
      "source": [
        "# テスト・デバッグに備えよ（コーディングを）\n",
        "\n",
        "* コード設計をテストを考慮したものにする考慮したものにする\n",
        "* プログラムをモジュール化して、テストやデバッグを個別にできるようにするようにする\n",
        "* モジュールの制約を記述する\n",
        "  * 入力として想定しているものは\n",
        "  * 出力として想定しているものは\n",
        "* コード設計の背景にある**仮定**を記述する\n"
      ]
    },
    {
      "cell_type": "markdown",
      "metadata": {
        "id": "iB-6VhMRRyY7"
      },
      "source": [
        "# テストはいつすべきか\n",
        "\n",
        "* 少なくともコードが動くとき... （インタプリタが出力するエラーを消す）\n",
        "  * 構文エラーをなくして\n",
        "  * 静的意味論エラーをなくして\n",
        "\n",
        "* いくつかの**期待する**出力が手元にあるとき\n",
        "  * 入力のセット\n",
        "  * その入力に対して期待される出力のセット\n",
        "  "
      ]
    },
    {
      "cell_type": "markdown",
      "metadata": {
        "id": "xFpefmeFg1cI"
      },
      "source": [
        "# テストの段階\n",
        "\n",
        "* 単体テスト（unit test）\n",
        "  * プログラムにおいて個々の**部分**に対する正当性の確認\n",
        "  * 関数などの単体が正常に動いているか設計されたテスト\n",
        "\n",
        "* 回帰テスト（regression test）\n",
        "  * プログラムを改変したときに副作用的に現れるバグに対するテスト\n",
        "  * 部分的な変更に対して他の要素についてもテストを実施する\n",
        "  * 多くの場合はテストを自動化することによって実施する（Continuous Integration:CI, Continuous Delivery:CD）\n",
        "* 統合テスト（integration test）\n",
        "  * プログラムが全体として意図通りに動いているかを確認するテスト\n",
        "  * 単体テストが通っていても統合テストが通らない場合は、単体テストのケースに抜けがある"
      ]
    },
    {
      "cell_type": "markdown",
      "metadata": {
        "id": "Efe5oWHWjo5p"
      },
      "source": [
        "# テスト：いくつかのアプローチ\n",
        "\n",
        "テストとは、バグを見つけ出す可能性の高い入力の集合（テストスイート）を作り上げること\n",
        "* 集合の分割\n",
        "  * 入力の集合をいくつかの部分集合に分ける\n",
        "* 経路\n",
        "  * プログラム実行時の経路を発見するする\n",
        "\n",
        "## 方法\n",
        "\n",
        "* 直感的にバウンダリ（境界）を求めて、境界テストを行う\n",
        "```\n",
        "def is_bigger(x, y):\n",
        "  \"\"\" x, yはintと仮定\n",
        "  xがyよりも大きければTrueを返す そうでなければFalseを返す \"\"\"\n",
        "```\n",
        "* ランダムテスト\n",
        "  * 確率論的に、コードの正しさを実証\n",
        "  * テストするだけ正しさの度合いも上がるだろうという考え方\n",
        "\n",
        "* ブラックボックステスト\n",
        "  * 仕様から経路を調べる発見的方法\n",
        "* グラスボックステスト\n",
        "  * コードを通して各経路を調べる発見的手法"
      ]
    },
    {
      "cell_type": "markdown",
      "metadata": {
        "id": "i8AcRdT_uL9B"
      },
      "source": [
        "# ブラックボックステスト\n",
        "\n",
        "```\n",
        "def sqrt(x, e):\n",
        "  \"\"\" x, yはfloatと仮定 xは0以上、eは0より大きいと仮定\n",
        "  ans*ansがx-e以上かつx+e以下となるような変数ansを返す\"\"\"\n",
        "```\n",
        "\n",
        "* コードを見ずにテストをする\n",
        "* バイアスを避けるために実装をした者以外の人がテストするとよい\n",
        "* テストは実装が変わったとしても再利用できる\n",
        "* 仕様から経路を調べる\n",
        " * テストケースを異なる自然な部分集合から作る\n",
        " * 境界条件を考慮する（空のリストや1つの要素からなるリスト、大きな数、小さな数）\n"
      ]
    },
    {
      "cell_type": "markdown",
      "metadata": {},
      "source": [
        "# ブラックボックステストの例\n",
        "```\n",
        "def sqrt(x, e):\n",
        "  \"\"\" x, yはfloatと仮定 xは0以上、eは0より大きいと仮定\n",
        "  ans*ansがx-e以上かつx+e以下となるような変数ansを返す\"\"\"\n",
        "```\n",
        "\n",
        "|  ケース  | x | e|\n",
        "| ---- | ---- | ---- |\n",
        "|  境界  |  0  | 0.0001|\n",
        "|  1より小さい  |  0.01  |0.0001|\n",
        "|  無理数 |  2  |0.0001|\n",
        "|  極端な条件  |  2  |sys.float_info.min|\n",
        "|  極端な条件  |  sys.float_info.min |sys.float_info.min|\n",
        "|  極端な条件  |  sys.float_info.max |sys.float_info.min|\n",
        "|  極端な条件  |  sys.float_info.min  |sys.float_info.max|\n",
        "|  極端な条件  |  sys.float_info.max  |sys.float_info.max|\n"
      ]
    },
    {
      "cell_type": "markdown",
      "metadata": {},
      "source": [
        "# グラスボックステスト\n",
        "```\n",
        "def abs(x):\n",
        "\"\"\" 入力xはintと仮定\n",
        "xが0以上ならxを返す。そうでなければ-xを返す \"\"\" \n",
        "  if x < -1:\n",
        "    return –x\n",
        "  else:\n",
        "    return x\n",
        "```\n",
        "* コードを直接テストケースの設計に使う\n",
        "*　可能性のある経路全てをテストするとき、**経路完全**と呼ぶ\n",
        "* 経路完全を達成するのは難しい\n",
        "  * ループの回数や再帰の深さにも依存\n",
        "  * 入力によって異なる経路をとる\n",
        "* ガイドライン\n",
        "  * 分岐：すべてのif文について両方の分岐を試す\n",
        "  * except節：忘れずに実行する（try-except構文）\n",
        "  * forループ：\n",
        "    * ループをパスする場合\n",
        "    * ループが1回だけ実行される場合\n",
        "    * ループが2回以上実行される場合\n",
        "  * whileループ：\n",
        "    * whileループから脱出する（break）条件について全てテストする\n",
        "  * 再帰\n",
        "    * 再帰しない場合\n",
        "    * 1回再帰する場合\n",
        "    * 2回以上再帰する場合"
      ]
    },
    {
      "cell_type": "markdown",
      "metadata": {},
      "source": [
        "# グラスボックステストの例\n",
        "```\n",
        "def abs(x):\n",
        "\"\"\" 入力xはintと仮定\n",
        "xが0以上ならxを返す。そうでなければ-xを返す \"\"\" \n",
        "  if x < -1:\n",
        "    return –x\n",
        "  else:\n",
        "    return x\n",
        "```\n",
        "\n",
        "* 経路完全テストケース: 例えば{2, −2}\n",
        "* abs(-1)はなにを返すか\n",
        "  * -1\n",
        "* 経路完全だからといってバグを見つけ出すことが保証されているわけではない\n",
        "* 境界ケースでのテストが必要\n"
      ]
    },
    {
      "cell_type": "markdown",
      "metadata": {},
      "source": [
        "# デバッグ\n",
        "\n",
        "* 学習によって向上する能力\n",
        "* 目的\n",
        "  * バグのないプログラムを得ること\n",
        "* ツール（デバッガ）\n",
        "  * IDE組み込みのツール\n",
        "  * https://pythontutor.com のような可視化ツール\n",
        "  * **print**文\n",
        "  * 頭を使って頑張る（システマチックに管理！）"
      ]
    },
    {
      "cell_type": "markdown",
      "metadata": {},
      "source": [
        "# printデバッグ\n",
        "\n",
        "* （頭の中にある）仮説をテストするには良い方法\n",
        "* どこにprintを置くか\n",
        "  * 関数が呼び出されたらすぐ\n",
        "  * 変数が変更されるだろうとき\n",
        "  * 関数が結果を返したら\n",
        "\n",
        "* ここでも二分法が使える\n",
        "  * printを置くことでバグの所在を絞り込む\n",
        "  * どの値がバグを引き起こしているのかを調べる"
      ]
    },
    {
      "cell_type": "code",
      "execution_count": null,
      "metadata": {},
      "outputs": [],
      "source": [
        "def isPal(x):\n",
        "    \"\"\"xはリスト リストが回文ならTrue、そうでなければFalseを返す\"\"\"\n",
        "    temp = x\n",
        "    temp.reverse \n",
        "    if temp == x:\n",
        "        return True\n",
        "    else:\n",
        "        return False\n",
        "\n",
        "def silly(n): \n",
        "    \"\"\"nは正のint n個の入力を受け取り、\n",
        "    入力文字列が回文なら'Yes'、そうでなければ'No'を出力\"\"\"\n",
        "    for i in range(n):\n",
        "        result = []\n",
        "        elem = input('要素を入力: ')\n",
        "        result.append(elem)\n",
        "        print(result)\n",
        "        if isPal(result):\n",
        "            print('Yes')\n",
        "        else:\n",
        "            print('No')\n",
        "\n",
        "silly(2)"
      ]
    },
    {
      "cell_type": "code",
      "execution_count": null,
      "metadata": {},
      "outputs": [],
      "source": [
        "def isPal(x):\n",
        "    \"\"\"xはリスト リストが回文ならTrue、そうでなければFalseを返す\"\"\"\n",
        "    temp = x[:]\n",
        "    temp.reverse()\n",
        "    if temp == x:\n",
        "        return True\n",
        "    else:\n",
        "        return False\n",
        "\n",
        "def silly(n): \n",
        "    \"\"\"nは正のint n個の入力を受け取り、\n",
        "    入力文字列が回文なら'Yes'、そうでなければ'No'を出力\"\"\"\n",
        "    result = []\n",
        "    for i in range(n):\n",
        "        elem = input('要素を入力: ')\n",
        "        result.append(elem)\n",
        "        print(result)\n",
        "        if isPal(result):\n",
        "            print('Yes')\n",
        "        else:\n",
        "            print('No')\n",
        "\n",
        "silly(2)"
      ]
    },
    {
      "cell_type": "markdown",
      "metadata": {},
      "source": [
        "# デバッグの心得\n",
        "\n",
        "* まずコードを調べよ\n",
        "  * **なにが間違っているか**を調べるのはやめよう\n",
        "  * どうやったら予期しない結果を引き起こすことができるかをクリエイティブに考える！\n",
        "* 科学的な方法を試みよ\n",
        "  * 利用可能なデータを調査\n",
        "  * 仮説を立てて考える\n",
        "  * 繰り返し試みる\n",
        "  * とりあえず単純な入力で考える\n",
        "* やりがちなことをしてないかチェック\n",
        "  * 関数への引数の順序\n",
        "  * 変数の初期化\n",
        "  * カッコ忘れ\n",
        "  * float型のチェックに==をつかってないか\n",
        "  * 副作用の忘れ\n",
        "  * エイリアシング\n",
        "* 誰かに頼れ\n",
        "* 書いてあることを信じるな\n",
        "* ちょっと離れてドキュメンテーションでもやってみよ\n",
        "* 寝ろ"
      ]
    },
    {
      "cell_type": "markdown",
      "metadata": {},
      "source": [
        "# エラーメッセージをとにかく見て！\n",
        "\n",
        "エラーメッセージに答えが書かれていることが多い。とにかくエラーメッセージに注目！"
      ]
    },
    {
      "cell_type": "code",
      "execution_count": null,
      "metadata": {},
      "outputs": [],
      "source": [
        "hoge = [1,2,3,4,5]\n",
        "hoge[5]"
      ]
    },
    {
      "cell_type": "code",
      "execution_count": null,
      "metadata": {},
      "outputs": [],
      "source": [
        "float(hoge)"
      ]
    },
    {
      "cell_type": "code",
      "execution_count": null,
      "metadata": {},
      "outputs": [],
      "source": [
        "aaaa"
      ]
    },
    {
      "cell_type": "code",
      "execution_count": null,
      "metadata": {},
      "outputs": [],
      "source": [
        "'123'/123"
      ]
    },
    {
      "cell_type": "code",
      "execution_count": null,
      "metadata": {},
      "outputs": [],
      "source": [
        "a = len([1,2,3,4,5]\n",
        "print(a)"
      ]
    },
    {
      "cell_type": "markdown",
      "metadata": {},
      "source": [
        "# ロジックのエラーへの対処は難しい\n",
        "\n",
        "* コードを書く前にちょっと考える\n",
        "* 図を書いて考えてみる\n",
        "* 他の人に話してみる\n"
      ]
    },
    {
      "cell_type": "markdown",
      "metadata": {},
      "source": [
        "# やってはいけない\n",
        "* プログラム全体を書く\n",
        "* テストを全体に対して行う\n",
        "* 全体をデバッグする\n",
        "\n",
        "# 推奨\n",
        "* 関数に分けて書く\n",
        "  * 関数をテストする\n",
        "  * 関数をデバッグする\n",
        "* 関数に分けて書く\n",
        "  * 関数をテストする\n",
        "  * 関数をデバッグする\n",
        "* 関数に分けて書く\n",
        "  * 関数をテストする\n",
        "  * 関数をデバッグする\n",
        "* このプロセスを繰り返して全体のプログラムを構成する"
      ]
    },
    {
      "cell_type": "markdown",
      "metadata": {},
      "source": [
        "# やってはいけない（コード変更編）\n",
        "1. コードを変更する\n",
        "2. どこにバグがあったのか覚える\n",
        "3. コードをテストする\n",
        "4. どこにバグがあったのか忘れる\n",
        "5. そもそもどのコードを変更したのか忘れる\n",
        "6. わけがわからないよ...\n",
        "\n",
        "#　推奨（コード変更編）\n",
        "1. コードをバックアップする\n",
        "2. コードを変更する\n",
        "3. コメントに潜在的なバグについて書いておく\n",
        "4. コードをテストする\n",
        "5. 古いバージョン（バックアップ）と新しいコードを比較する"
      ]
    },
    {
      "cell_type": "markdown",
      "metadata": {},
      "source": [
        "# 例外とアサーション\n",
        "* プログラムが予期しない状態に陥ったらどうなるか\n",
        "  * 例外が起きる\n",
        "\n",
        "```\n",
        "test = [1,2,3]\n",
        "test[3]\n",
        "```\n",
        "\n",
        "* いろんな例外\n",
        "  * SyntaxError: プログラムを正常にパースできなかったとき\n",
        "  * NameError: 変数が見つからなかったとき\n",
        "  * TypeError: 正しい型でなかったとき\n",
        "  * ValueError: 値が異常だったとき\n",
        "  * IOError: 入出力が異常だったとき（ファイルが見つからないなど）\n",
        "  * AttributeError: 属性が見つからなかったとき"
      ]
    },
    {
      "cell_type": "code",
      "execution_count": null,
      "metadata": {},
      "outputs": [],
      "source": [
        "test = [1,2,3]\n",
        "test[3]"
      ]
    },
    {
      "cell_type": "markdown",
      "metadata": {},
      "source": [
        "# 例外の処理\n",
        "\n",
        "* Pythonでは例外を扱うためのハンドラが備わっている\n",
        "  * try-exceptブロック\n",
        "\n",
        "```\n",
        "try:\n",
        "  a = int(input(\"数を入力せよ\"))\n",
        "  b = int(input(\"数を入力せよ\"))\n",
        "  print(a/b)\n",
        "except:\n",
        "  print(\"何かがおかしい！\")\n",
        "```\n",
        "\n",
        "* tryブロック内で例外が起こるとexceptブロック内が呼び出される（処理される）"
      ]
    },
    {
      "cell_type": "code",
      "execution_count": null,
      "metadata": {},
      "outputs": [],
      "source": [
        "try:\n",
        "  a = int(input(\"数を入力せよ\"))\n",
        "  b = int(input(\"数を入力せよ\"))\n",
        "  print(a/b)\n",
        "except:\n",
        "  print(\"何かがおかしい！\")"
      ]
    },
    {
      "cell_type": "markdown",
      "metadata": {},
      "source": [
        "# 特定の例外の処理\n",
        "\n",
        "```\n",
        "try:\n",
        "  a = int(input(\"数を入力せよ\"))\n",
        "  b = int(input(\"数を入力せよ\"))\n",
        "  print(a/b)\n",
        "except ValueError:\n",
        "  print(\"値がおかしいよ！\")\n",
        "except ZeroDivisionError:\n",
        "  print(\"ゼロで割るなんておかしいよ！\")\n",
        "except:\n",
        "  print(\"何かがおかしい！\")\n",
        "```"
      ]
    },
    {
      "cell_type": "code",
      "execution_count": null,
      "metadata": {},
      "outputs": [],
      "source": [
        "try:\n",
        "  a = int(input(\"数を入力せよ\"))\n",
        "  b = int(input(\"数を入力せよ\"))\n",
        "  print(a/b)\n",
        "except ValueError:\n",
        "  print(\"値がおかしいよ！\")\n",
        "except ZeroDivisionError:\n",
        "  print(\"ゼロで割るなんておかしいよ！\")\n",
        "except:\n",
        "  print(\"何かがおかしい！\")"
      ]
    },
    {
      "cell_type": "code",
      "execution_count": null,
      "metadata": {},
      "outputs": [],
      "source": [
        "try:\n",
        "  a = int(input(\"数を入力せよ\"))\n",
        "  b = int(input(\"数を入力せよ\"))\n",
        "  print(a/b)\n",
        "except ValueError:\n",
        "  print(\"値がおかしいよ！\")\n",
        "except ZeroDivisionError:\n",
        "  print(\"ゼロで割るなんておかしいよ！\")\n",
        "except:\n",
        "  print(\"何かがおかしい！\")\n",
        "else:\n",
        "  print(\"おかしくなかったよ\")\n",
        "finally:\n",
        "  print(\"いずれにしてもこれはでるよ\")\n",
        "  #ファイルを閉じたり後始末するのに使う"
      ]
    },
    {
      "cell_type": "markdown",
      "metadata": {},
      "source": [
        "# 例外はどのように処理をすべきか\n",
        "\n",
        "1. なにもしない\n",
        "  * デフォルトの値を代入して処理を続けるなど...\n",
        "  * ユーザがフィードバックを得られない難点がある\n",
        "2. エラーを返す\n",
        "  * エラーがあったことがフィードバックできる\n",
        "  * どんな値を返すべきかは臨機応変に\n",
        "  * 割と考えなくてはならない\n",
        "3. 実行を止めてエラーを出す\n",
        "  * 致命的なエラーの場合は実行を止めたほうがよい\n",
        "  * どんなエラーだったのかフィードバックする\n",
        "  * `raise Exception(\"説明\")`"
      ]
    },
    {
      "cell_type": "code",
      "execution_count": null,
      "metadata": {},
      "outputs": [],
      "source": [
        "raise Exception(\"こんな説明です\")"
      ]
    },
    {
      "cell_type": "code",
      "execution_count": null,
      "metadata": {},
      "outputs": [],
      "source": [
        "# 例外の例\n",
        "def getRatios(vect1, vect2):\n",
        "    \"\"\"vect1とvect2を同じ長さのリストとする。\n",
        "    vet1[i]/vect2[i]を意味する値からなるリストを返す。\"\"\"\n",
        "    ratios = []\n",
        "    for index in range(len(vect1)):\n",
        "        try:\n",
        "            ratios.append(vect1[index] / float(vect2[index]))\n",
        "        except ZeroDivisionError:\n",
        "            ratios.append(float('nan')) # nan = Not a Number\n",
        "        except:\n",
        "            raise ValueError('getRatiosは不適切な引数で呼び出されました')\n",
        "    return ratios"
      ]
    },
    {
      "cell_type": "markdown",
      "metadata": {},
      "source": [
        "# 例外の例\n",
        "\n",
        "* 氏名と複数の科目の点数が記録されているリストがある\n",
        "* 上のリストについて平均点を加えた新しいリストを作ることにする\n",
        "\n",
        "```\n",
        "test_scores = [[[\"松村\",\"耕平\"],[80.0,70.0,84.0]], [[\"河野\",\"隼一郎\"],[90.0,100.0,73.0]]\n",
        "```"
      ]
    },
    {
      "cell_type": "code",
      "execution_count": null,
      "metadata": {},
      "outputs": [],
      "source": [
        "test_scores = [[[\"松村\",\"耕平\"],[80.0,70.0,84.0]], [[\"河野\",\"隼一郎\"],[90.0,100.0,73.0]]]\n",
        "\n",
        "def get_stats(score_list):\n",
        "  new_list = []\n",
        "  for e in score_list:\n",
        "    new_list.append([e[0], e[1], avg(e[1])])\n",
        "  return new_list\n",
        "def avg(scores):\n",
        "    return sum(scores)/len(scores)\n",
        "\n",
        "get_stats(test_scores)"
      ]
    },
    {
      "cell_type": "code",
      "execution_count": null,
      "metadata": {},
      "outputs": [],
      "source": [
        "test_scores = [ [[\"松村\",\"耕平\"],[80.0,70.0,84.0]], \n",
        "                [[\"河野\",\"隼一郎\"],[90.0,100.0,73.0]],\n",
        "                [[\"バグ\",\"太朗\"],[]]]\n",
        "\n",
        "get_stats(test_scores)"
      ]
    },
    {
      "cell_type": "markdown",
      "metadata": {},
      "source": [
        "# 例外方略１：エラーがあることを表示する\n",
        "\n",
        "```\n",
        "def avg(scores):\n",
        "    try:\n",
        "        return sum(scores)/len(scores)\n",
        "    except ZeroDivisionEroor:\n",
        "        print(\"警告：点数が記録されていません\")\n",
        "```\n"
      ]
    },
    {
      "cell_type": "code",
      "execution_count": null,
      "metadata": {},
      "outputs": [],
      "source": [
        "def avg(scores):\n",
        "    try:\n",
        "        return sum(scores)/len(scores)\n",
        "    except ZeroDivisionError:\n",
        "        print(\"警告：点数が記録されていません\")"
      ]
    },
    {
      "cell_type": "markdown",
      "metadata": {},
      "source": [
        "# 例外方略2：点数が登録されていない場合0点として扱う\n",
        "\n",
        "```\n",
        "def avg(scores):\n",
        "    try:\n",
        "        return sum(scores)/len(scores)\n",
        "    except ZeroDivisionError:\n",
        "        print(\"警告：点数が記録されていません\")\n",
        "        return 0.0\n",
        "```\n"
      ]
    },
    {
      "cell_type": "code",
      "execution_count": null,
      "metadata": {},
      "outputs": [],
      "source": [
        "def avg(scores):\n",
        "    try:\n",
        "        return sum(scores)/len(scores)\n",
        "    except ZeroDivisionError:\n",
        "        print(\"警告：点数が記録されていません\")\n",
        "        return 0.0"
      ]
    },
    {
      "cell_type": "markdown",
      "metadata": {},
      "source": [
        "# アサーション\n",
        "\n",
        "* 仮定したものが、仮定通りであるかを確認したい\n",
        "* 計算結果が期待したどおりかを確認したい\n",
        "* **assert**文を使うと、条件外の場合はAssertionError例外を起こすことができる\n",
        "* 防御的プログラミング\n",
        "\n",
        "```\n",
        "def avg(scores):\n",
        "    assert len(scores) !=0, \"点数が記録されていません\"\n",
        "    return sum(scores)/len(scores)\n",
        "```\n",
        "\n",
        "* 上の例だと、scoresリストが空(=len(scores)が0)だったらAssertionError例外を起こす\n",
        "* そうでなければスルー"
      ]
    },
    {
      "cell_type": "code",
      "execution_count": null,
      "metadata": {},
      "outputs": [],
      "source": [
        "def avg(scores):\n",
        "    assert len(scores) !=0, \"点数が記録されていません\"\n",
        "    return sum(scores)/len(scores)"
      ]
    },
    {
      "cell_type": "markdown",
      "metadata": {},
      "source": [
        "# 防御的プログラミングとしてのアサーション\n",
        "* アサーションは予期しない状況の場合にプログラマに対応を投げない\n",
        "* 期待される条件でなかった場合は実行の中断が保証される\n",
        "* 入力のチェックによく使われる\n",
        "* 出力のチェックにもよく使われる\n",
        "* バグの場所を特定するのにも便利である（デバッグツールとして）"
      ]
    }
  ],
  "metadata": {
    "colab": {
      "collapsed_sections": [],
      "provenance": []
    },
    "kernelspec": {
      "display_name": "Python 3.10.8 64-bit",
      "language": "python",
      "name": "python3"
    },
    "language_info": {
      "name": "python",
      "version": "3.10.8"
    },
    "vscode": {
      "interpreter": {
        "hash": "b0fa6594d8f4cbf19f97940f81e996739fb7646882a419484c72d19e05852a7e"
      }
    }
  },
  "nbformat": 4,
  "nbformat_minor": 0
}
